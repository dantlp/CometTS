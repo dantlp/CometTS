{
 "cells": [
  {
   "cell_type": "markdown",
   "metadata": {},
   "source": [
    "# CometTS_Visualizer\n",
    "CometTS will run through and calculate the statistical central tendencies and amount of statistical spread present in the data over time. It will then plot this data and apply regression lines to it. Additionally, tabular data in a .csv format will be output in the same folder that contains your raster data."
   ]
  },
  {
   "cell_type": "code",
   "execution_count": 1,
   "metadata": {},
   "outputs": [],
   "source": [
    "#Imports\n",
    "import os\n",
    "from CometTS.CometTS import run_comet\n",
    "from CometTS.Plotting import run_plot, run_plot_arima\n",
    "from CometTS.ARIMA import run_arima, timeseries_trend\n",
    "import ipywidgets as widgets\n",
    "from IPython.display import Javascript, display, clear_output\n",
    "from ipywidgets import interact, interactive, fixed, interact_manual\n",
    "import matplotlib.pyplot as plt\n",
    "import seaborn as sns\n",
    "import shapely\n",
    "import pandas as pd\n",
    "import geopandas as gpd\n",
    "sns.set(color_codes=True)\n",
    "\n",
    "## Define default paths for sample data\n",
    "input_path=os.path.abspath('')\n",
    "input_path=os.path.join(input_path.split(\"Notebooks\")[0],\"CometTS/VIIRS_Sample\")"
   ]
  },
  {
   "cell_type": "markdown",
   "metadata": {},
   "source": [
    "## Create your polygons\n",
    "After the raster data are organized appropriately, you are ready to begin a workflow. The secondary input is simply a polygon vector file which will direct your analysis and calculate the relevant statistics and plots. Polygons can be created in QGIS, the GIS software of your choice, or can be done online. One such way is going to  http://geojson.io/ and using the tool. Ensure that the polygon is in the same projection as your raster data! Otherwise it will appear the data are not overlapping and no statistics will be calculated!"
   ]
  },
  {
   "cell_type": "markdown",
   "metadata": {},
   "source": [
    "## Some notes on VIIRS Nighttime Lights Imagery\n",
    "\n",
    "The example workflow continues below with default inputs including NPP VIIRS Nighttime lights monthly composite data and a polygon over San Juan, Puerto Rico.  VIIRS monthly composite data has two bands that can be useful for time series analysis. The first documents the night-time brightness on the ground (S* rade9.tif) and the second documents the number of observations that contribute to each monthly composite (S* cvg.tif). The observation band can be used to plot the number of observations AND as a mask band. If there are 0 observations in a pixel for a month, that does not mean that brightness is 0, simply that there are no observations typically due to cloud cover. As such, these data should be masked out."
   ]
  },
  {
   "cell_type": "markdown",
   "metadata": {},
   "source": [
    "## Initialize functions below for plotting, then scroll down to enter your inputs\n",
    "\n",
    "When your paths are set, click the “Execute…” button. This will then create the relevant statistics over time by iterating through your rasters. The amount of time this will take will depending upon the number of rasters and different AOIs you are analyzing at one time."
   ]
  },
  {
   "cell_type": "code",
   "execution_count": 4,
   "metadata": {},
   "outputs": [
    {
     "name": "stdout",
     "output_type": "stream",
     "text": [
      "Enter csv as created by CSV_Creator(ex: /Raster_List.csv)\n"
     ]
    },
    {
     "data": {
      "application/vnd.jupyter.widget-view+json": {
       "model_id": "7f8e6b56c836442098337a59bd13177e",
       "version_major": 2,
       "version_minor": 0
      },
      "text/plain": [
       "interactive(children=(Text(value='C:\\\\Users\\\\dante\\\\Documents\\\\Mun\\\\CMSC6950\\\\CometTS\\\\CometTS/VIIRS_Sample\\\\R…"
      ]
     },
     "metadata": {},
     "output_type": "display_data"
    },
    {
     "name": "stdout",
     "output_type": "stream",
     "text": [
      "Enter full path to vector polygon(ex: /NiameyPoly.shp)\n"
     ]
    },
    {
     "data": {
      "application/vnd.jupyter.widget-view+json": {
       "model_id": "adca9cae1fe748fa8247ffc57c327495",
       "version_major": 2,
       "version_minor": 0
      },
      "text/plain": [
       "interactive(children=(Text(value='C:\\\\Users\\\\dante\\\\Documents\\\\Mun\\\\CMSC6950\\\\CometTS\\\\CometTS/VIIRS_Sample\\\\S…"
      ]
     },
     "metadata": {},
     "output_type": "display_data"
    },
    {
     "name": "stdout",
     "output_type": "stream",
     "text": [
      "Enter NoData Value for null space in imagery(ex: Landsat typically -9999, VIIRS Monthly Composites -1)\n"
     ]
    },
    {
     "data": {
      "application/vnd.jupyter.widget-view+json": {
       "model_id": "fa98ee7ae7d2452ea3e58a0833eaadd4",
       "version_major": 2,
       "version_minor": 0
      },
      "text/plain": [
       "interactive(children=(Text(value='-1', description='z'), Output()), _dom_classes=('widget-interact',))"
      ]
     },
     "metadata": {},
     "output_type": "display_data"
    },
    {
     "name": "stdout",
     "output_type": "stream",
     "text": [
      "Enter mask pixel value(s).  (ex: Clouds/Cloud Shadow=1)\n",
      "If multiple values seperate with a comma, if no masking is required, leave blank\n"
     ]
    },
    {
     "data": {
      "application/vnd.jupyter.widget-view+json": {
       "model_id": "6e04789aa21c4d95ba5a418bfdf08148",
       "version_major": 2,
       "version_minor": 0
      },
      "text/plain": [
       "interactive(children=(Text(value='0', description='z'), Output()), _dom_classes=('widget-interact',))"
      ]
     },
     "metadata": {},
     "output_type": "display_data"
    },
    {
     "data": {
      "application/vnd.jupyter.widget-view+json": {
       "model_id": "3fba5d890b4c4c398a588dd1d347b112",
       "version_major": 2,
       "version_minor": 0
      },
      "text/plain": [
       "Checkbox(value=True, description='Mask Rasters')"
      ]
     },
     "metadata": {},
     "output_type": "display_data"
    },
    {
     "data": {
      "application/vnd.jupyter.widget-view+json": {
       "model_id": "eb0fcc51bdd442ed87a32f99b058a0eb",
       "version_major": 2,
       "version_minor": 0
      },
      "text/plain": [
       "Button(description='Execute...', style=ButtonStyle())"
      ]
     },
     "metadata": {},
     "output_type": "display_data"
    },
    {
     "name": "stdout",
     "output_type": "stream",
     "text": [
      "C:\\Users\\dante\\Documents\\Mun\\CMSC6950\\CometTS\\CometTS/VIIRS_Sample\\San_Juan.shp\n",
      "Processing...\n"
     ]
    },
    {
     "name": "stderr",
     "output_type": "stream",
     "text": [
      "100%|██████████████████████████████████████████████████████████████████████████████████| 44/44 [00:00<00:00, 95.42it/s]\n"
     ]
    },
    {
     "name": "stdout",
     "output_type": "stream",
     "text": [
      "Getting number of observations...\n"
     ]
    },
    {
     "name": "stderr",
     "output_type": "stream",
     "text": [
      "100%|█████████████████████████████████████████████████████████████████████████████████| 44/44 [00:00<00:00, 105.96it/s]\n"
     ]
    },
    {
     "name": "stdout",
     "output_type": "stream",
     "text": [
      "Producing csv output...\n",
      "CSV statistics saved here:  C:\\Users\\dante\\Documents\\Mun\\CMSC6950\\CometTS\\CometTS\\VIIRS_Sample\\VIIRS_Sample\\San_Juan_FullStats.csv\n"
     ]
    },
    {
     "ename": "FileNotFoundError",
     "evalue": "[Errno 2] No such file or directory: 'C:\\\\Users\\\\dante\\\\Documents\\\\Mun\\\\CMSC6950\\\\CometTS\\\\CometTS\\\\VIIRS_Sample\\\\VIIRS_Sample\\\\San_Juan_FullStats.csv'",
     "output_type": "error",
     "traceback": [
      "\u001b[1;31m---------------------------------------------------------------------------\u001b[0m",
      "\u001b[1;31mFileNotFoundError\u001b[0m                         Traceback (most recent call last)",
      "\u001b[1;32m<ipython-input-4-e47e51f80d60>\u001b[0m in \u001b[0;36mrun_all\u001b[1;34m(ev)\u001b[0m\n\u001b[0;32m     55\u001b[0m         \u001b[0mNoDataValue\u001b[0m\u001b[1;33m.\u001b[0m\u001b[0mchildren\u001b[0m\u001b[1;33m[\u001b[0m\u001b[1;36m0\u001b[0m\u001b[1;33m]\u001b[0m\u001b[1;33m.\u001b[0m\u001b[0mvalue\u001b[0m\u001b[1;33m.\u001b[0m\u001b[0mstrip\u001b[0m\u001b[1;33m(\u001b[0m\u001b[1;33m)\u001b[0m\u001b[1;33m,\u001b[0m\u001b[1;33m\u001b[0m\u001b[1;33m\u001b[0m\u001b[0m\n\u001b[0;32m     56\u001b[0m         \u001b[0mmask_value\u001b[0m\u001b[1;33m.\u001b[0m\u001b[0mchildren\u001b[0m\u001b[1;33m[\u001b[0m\u001b[1;36m0\u001b[0m\u001b[1;33m]\u001b[0m\u001b[1;33m.\u001b[0m\u001b[0mvalue\u001b[0m\u001b[1;33m.\u001b[0m\u001b[0mstrip\u001b[0m\u001b[1;33m(\u001b[0m\u001b[1;33m)\u001b[0m\u001b[1;33m,\u001b[0m\u001b[1;33m\u001b[0m\u001b[1;33m\u001b[0m\u001b[0m\n\u001b[1;32m---> 57\u001b[1;33m         maskit=checkbox.value)\n\u001b[0m\u001b[0;32m     58\u001b[0m     \u001b[0mget_ipython\u001b[0m\u001b[1;33m(\u001b[0m\u001b[1;33m)\u001b[0m\u001b[1;33m.\u001b[0m\u001b[0mrun_line_magic\u001b[0m\u001b[1;33m(\u001b[0m\u001b[1;34m'matplotlib'\u001b[0m\u001b[1;33m,\u001b[0m \u001b[1;34m'inline'\u001b[0m\u001b[1;33m)\u001b[0m\u001b[1;33m\u001b[0m\u001b[1;33m\u001b[0m\u001b[0m\n\u001b[0;32m     59\u001b[0m     \u001b[0mrun_plot\u001b[0m\u001b[1;33m(\u001b[0m\u001b[0mI\u001b[0m\u001b[1;33m)\u001b[0m\u001b[1;33m\u001b[0m\u001b[1;33m\u001b[0m\u001b[0m\n",
      "\u001b[1;32m~\\.conda\\envs\\CometTS\\lib\\site-packages\\CometTS\\CometTS.py\u001b[0m in \u001b[0;36mrun_comet\u001b[1;34m(directory_csv, zonalpoly, NoDataValue, mask_value, maskit, Path_out)\u001b[0m\n\u001b[0;32m     70\u001b[0m     \u001b[0moutput\u001b[0m \u001b[1;33m=\u001b[0m \u001b[0mos\u001b[0m\u001b[1;33m.\u001b[0m\u001b[0mpath\u001b[0m\u001b[1;33m.\u001b[0m\u001b[0mjoin\u001b[0m\u001b[1;33m(\u001b[0m\u001b[0mPath_out\u001b[0m\u001b[1;33m,\u001b[0m \u001b[0mz_simple\u001b[0m \u001b[1;33m+\u001b[0m \u001b[1;34m'_FullStats.csv'\u001b[0m\u001b[1;33m)\u001b[0m\u001b[1;33m\u001b[0m\u001b[1;33m\u001b[0m\u001b[0m\n\u001b[0;32m     71\u001b[0m     \u001b[0mprint\u001b[0m\u001b[1;33m(\u001b[0m\u001b[1;34m\"CSV statistics saved here: \"\u001b[0m\u001b[1;33m,\u001b[0m \u001b[0moutput\u001b[0m\u001b[1;33m)\u001b[0m\u001b[1;33m\u001b[0m\u001b[1;33m\u001b[0m\u001b[0m\n\u001b[1;32m---> 72\u001b[1;33m     \u001b[0mgdf2\u001b[0m\u001b[1;33m.\u001b[0m\u001b[0mto_csv\u001b[0m\u001b[1;33m(\u001b[0m\u001b[0moutput\u001b[0m\u001b[1;33m)\u001b[0m\u001b[1;33m\u001b[0m\u001b[1;33m\u001b[0m\u001b[0m\n\u001b[0m\u001b[0;32m     73\u001b[0m     \u001b[1;32mfor\u001b[0m \u001b[0mitem\u001b[0m \u001b[1;32min\u001b[0m \u001b[0mgdf2\u001b[0m\u001b[1;33m[\u001b[0m\u001b[1;34m'ID'\u001b[0m\u001b[1;33m]\u001b[0m\u001b[1;33m.\u001b[0m\u001b[0munique\u001b[0m\u001b[1;33m(\u001b[0m\u001b[1;33m)\u001b[0m\u001b[1;33m:\u001b[0m\u001b[1;33m\u001b[0m\u001b[1;33m\u001b[0m\u001b[0m\n\u001b[0;32m     74\u001b[0m         \u001b[0mgdf3\u001b[0m \u001b[1;33m=\u001b[0m \u001b[0mgdf2\u001b[0m\u001b[1;33m[\u001b[0m\u001b[1;33m(\u001b[0m\u001b[0mgdf2\u001b[0m\u001b[1;33m.\u001b[0m\u001b[0mID\u001b[0m \u001b[1;33m==\u001b[0m \u001b[0mitem\u001b[0m\u001b[1;33m)\u001b[0m\u001b[1;33m]\u001b[0m\u001b[1;33m\u001b[0m\u001b[1;33m\u001b[0m\u001b[0m\n",
      "\u001b[1;32m~\\.conda\\envs\\CometTS\\lib\\site-packages\\pandas\\core\\generic.py\u001b[0m in \u001b[0;36mto_csv\u001b[1;34m(self, path_or_buf, sep, na_rep, float_format, columns, header, index, index_label, mode, encoding, compression, quoting, quotechar, line_terminator, chunksize, tupleize_cols, date_format, doublequote, escapechar, decimal)\u001b[0m\n\u001b[0;32m   3018\u001b[0m                                  \u001b[0mdoublequote\u001b[0m\u001b[1;33m=\u001b[0m\u001b[0mdoublequote\u001b[0m\u001b[1;33m,\u001b[0m\u001b[1;33m\u001b[0m\u001b[1;33m\u001b[0m\u001b[0m\n\u001b[0;32m   3019\u001b[0m                                  escapechar=escapechar, decimal=decimal)\n\u001b[1;32m-> 3020\u001b[1;33m         \u001b[0mformatter\u001b[0m\u001b[1;33m.\u001b[0m\u001b[0msave\u001b[0m\u001b[1;33m(\u001b[0m\u001b[1;33m)\u001b[0m\u001b[1;33m\u001b[0m\u001b[1;33m\u001b[0m\u001b[0m\n\u001b[0m\u001b[0;32m   3021\u001b[0m \u001b[1;33m\u001b[0m\u001b[0m\n\u001b[0;32m   3022\u001b[0m         \u001b[1;32mif\u001b[0m \u001b[0mpath_or_buf\u001b[0m \u001b[1;32mis\u001b[0m \u001b[1;32mNone\u001b[0m\u001b[1;33m:\u001b[0m\u001b[1;33m\u001b[0m\u001b[1;33m\u001b[0m\u001b[0m\n",
      "\u001b[1;32m~\\.conda\\envs\\CometTS\\lib\\site-packages\\pandas\\io\\formats\\csvs.py\u001b[0m in \u001b[0;36msave\u001b[1;34m(self)\u001b[0m\n\u001b[0;32m    155\u001b[0m             f, handles = _get_handle(self.path_or_buf, self.mode,\n\u001b[0;32m    156\u001b[0m                                      \u001b[0mencoding\u001b[0m\u001b[1;33m=\u001b[0m\u001b[0mself\u001b[0m\u001b[1;33m.\u001b[0m\u001b[0mencoding\u001b[0m\u001b[1;33m,\u001b[0m\u001b[1;33m\u001b[0m\u001b[1;33m\u001b[0m\u001b[0m\n\u001b[1;32m--> 157\u001b[1;33m                                      compression=self.compression)\n\u001b[0m\u001b[0;32m    158\u001b[0m             \u001b[0mclose\u001b[0m \u001b[1;33m=\u001b[0m \u001b[1;32mTrue\u001b[0m\u001b[1;33m\u001b[0m\u001b[1;33m\u001b[0m\u001b[0m\n\u001b[0;32m    159\u001b[0m \u001b[1;33m\u001b[0m\u001b[0m\n",
      "\u001b[1;32m~\\.conda\\envs\\CometTS\\lib\\site-packages\\pandas\\io\\common.py\u001b[0m in \u001b[0;36m_get_handle\u001b[1;34m(path_or_buf, mode, encoding, compression, memory_map, is_text)\u001b[0m\n\u001b[0;32m    422\u001b[0m         \u001b[1;32melif\u001b[0m \u001b[0mencoding\u001b[0m\u001b[1;33m:\u001b[0m\u001b[1;33m\u001b[0m\u001b[1;33m\u001b[0m\u001b[0m\n\u001b[0;32m    423\u001b[0m             \u001b[1;31m# Python 3 and encoding\u001b[0m\u001b[1;33m\u001b[0m\u001b[1;33m\u001b[0m\u001b[1;33m\u001b[0m\u001b[0m\n\u001b[1;32m--> 424\u001b[1;33m             \u001b[0mf\u001b[0m \u001b[1;33m=\u001b[0m \u001b[0mopen\u001b[0m\u001b[1;33m(\u001b[0m\u001b[0mpath_or_buf\u001b[0m\u001b[1;33m,\u001b[0m \u001b[0mmode\u001b[0m\u001b[1;33m,\u001b[0m \u001b[0mencoding\u001b[0m\u001b[1;33m=\u001b[0m\u001b[0mencoding\u001b[0m\u001b[1;33m,\u001b[0m \u001b[0mnewline\u001b[0m\u001b[1;33m=\u001b[0m\u001b[1;34m\"\"\u001b[0m\u001b[1;33m)\u001b[0m\u001b[1;33m\u001b[0m\u001b[1;33m\u001b[0m\u001b[0m\n\u001b[0m\u001b[0;32m    425\u001b[0m         \u001b[1;32melif\u001b[0m \u001b[0mis_text\u001b[0m\u001b[1;33m:\u001b[0m\u001b[1;33m\u001b[0m\u001b[1;33m\u001b[0m\u001b[0m\n\u001b[0;32m    426\u001b[0m             \u001b[1;31m# Python 3 and no explicit encoding\u001b[0m\u001b[1;33m\u001b[0m\u001b[1;33m\u001b[0m\u001b[1;33m\u001b[0m\u001b[0m\n",
      "\u001b[1;31mFileNotFoundError\u001b[0m: [Errno 2] No such file or directory: 'C:\\\\Users\\\\dante\\\\Documents\\\\Mun\\\\CMSC6950\\\\CometTS\\\\CometTS\\\\VIIRS_Sample\\\\VIIRS_Sample\\\\San_Juan_FullStats.csv'"
     ]
    }
   ],
   "source": [
    "# Create text widget for input\n",
    "def f(z):\n",
    "    return z\n",
    "\n",
    "print(\"Enter csv as created by CSV_Creator(ex: /Raster_List.csv)\")\n",
    "try:\n",
    "    directory_csv\n",
    "except NameError:\n",
    "    directory_csv = interactive(f, z=os.path.join(input_path,'Raster_List.csv'))\n",
    "    display(directory_csv)\n",
    "else:\n",
    "    directory_csv = str(directory_csv.children[0].value)\n",
    "    directory_csv = interactive(f, z=directory_csv)\n",
    "    display(directory_csv)\n",
    "\n",
    "print(\"Enter full path to vector polygon(ex: /NiameyPoly.shp)\")\n",
    "try:\n",
    "    zonalpoly\n",
    "except NameError:\n",
    "    zonalpoly = interactive(f, z=os.path.join(input_path,'San_Juan.shp'))\n",
    "    display(zonalpoly)\n",
    "else:\n",
    "    zonalpoly = str(zonalpoly.children[0].value)\n",
    "    zonalpoly = interactive(f, z=zonalpoly)\n",
    "    display(zonalpoly)\n",
    "\n",
    "print(\"Enter NoData Value for null space in imagery(ex: Landsat typically -9999, VIIRS Monthly Composites -1)\")\n",
    "try:\n",
    "    NoDataValue\n",
    "except NameError:\n",
    "    NoDataValue = interactive(f, z='-1')\n",
    "    display(NoDataValue)\n",
    "else:\n",
    "    NoDataValue = str(NoDataValue.children[0].value)\n",
    "    NoDataValue = interactive(f, z=NoDataValue)\n",
    "    display(NoDataValue)\n",
    "\n",
    "print(\"Enter mask pixel value(s).  (ex: Clouds/Cloud Shadow=1)\")\n",
    "print(\"If multiple values seperate with a comma, if no masking is required, leave blank\")\n",
    "try:\n",
    "    mask_value\n",
    "except NameError:\n",
    "    mask_value = interactive(f, z='0')\n",
    "    display(mask_value)\n",
    "else:\n",
    "    mask_value = str(mask_value.children[0].value)\n",
    "    mask_value = interactive(f, z=mask_value)\n",
    "    display(mask_value)\n",
    "\n",
    "\n",
    "def run_all(ev):\n",
    "    I = run_comet(\n",
    "        directory_csv.children[0].value.strip(),\n",
    "        zonalpoly.children[0].value.strip(),\n",
    "        NoDataValue.children[0].value.strip(),\n",
    "        mask_value.children[0].value.strip(),\n",
    "        maskit=checkbox.value)\n",
    "    %matplotlib inline\n",
    "    run_plot(I)\n",
    "\n",
    "\n",
    "checkbox = widgets.Checkbox(\n",
    "    value=True,\n",
    "    description='Mask Rasters',\n",
    "    disabled=False\n",
    ")\n",
    "\n",
    "\n",
    "button = widgets.Button(description=\"Execute...\")\n",
    "button.on_click(run_all)\n",
    "display(checkbox)\n",
    "display(button)"
   ]
  },
  {
   "cell_type": "markdown",
   "metadata": {},
   "source": [
    "## ARIMA Analysis\n",
    "CometTS has expanded its functionality and now uses auto-regressive integrated moving average (ARIMA) analysis to detect anomalies in a time-series of data.  We have a built in function to calculate this for you automatically.  If you choose to continue with the example workflow, you may recall that Hurricane Maria hit Puerto Rico in September of 2017.  We can track where the expected brightness levels should have been had the hurricane not hit.  \n",
    "\n",
    "Once initializing the functions and running the commands below we display the mean observed brightness level in San Juan in black and red dots, the number of observations caputured by the VIIRS satellite for the month in blue, and a few forecasts.  The forecasts use any observations before 8-15-2017 to calulate trends using ARIMA and linear analysis, and then apply these forecasts after this date to display where we expect brightness levels to be.  We then calculate the mean absolute error from the ARIMA trend before our date in question (8/15/2017) and multiply it by two to extend our error bars a bit (dark grey area).  We then can automatically flag observations as anamolies (red) if areas are brighter or darker than they should be. "
   ]
  },
  {
   "cell_type": "code",
   "execution_count": 3,
   "metadata": {},
   "outputs": [
    {
     "name": "stdout",
     "output_type": "stream",
     "text": [
      "Enter csv as output by CometTS(ex: /San_Juan_FullStats.csv)\n"
     ]
    },
    {
     "data": {
      "application/vnd.jupyter.widget-view+json": {
       "model_id": "5cca808242e040acbf736a8297e72e19",
       "version_major": 2,
       "version_minor": 0
      },
      "text/plain": [
       "interactive(children=(Text(value='C:\\\\Users\\\\dante\\\\Documents\\\\Mun\\\\CMSC6950\\\\CometTS\\\\CometTS/VIIRS_Sample\\\\S…"
      ]
     },
     "metadata": {},
     "output_type": "display_data"
    },
    {
     "name": "stdout",
     "output_type": "stream",
     "text": [
      "Enter the output path for all ARIMA statistics (ex: /San_Juan_FullStats_ARIMA.csv)\n"
     ]
    },
    {
     "data": {
      "application/vnd.jupyter.widget-view+json": {
       "model_id": "77e12d5dfed04286a8b07bdd2c5492f3",
       "version_major": 2,
       "version_minor": 0
      },
      "text/plain": [
       "interactive(children=(Text(value='C:\\\\Users\\\\dante\\\\Documents\\\\Mun\\\\CMSC6950\\\\CometTS\\\\CometTS/VIIRS_Sample\\\\S…"
      ]
     },
     "metadata": {},
     "output_type": "display_data"
    },
    {
     "name": "stdout",
     "output_type": "stream",
     "text": [
      "Enter the centered moving average amount (typically 3, 5, or a larger odd number)\n"
     ]
    },
    {
     "data": {
      "application/vnd.jupyter.widget-view+json": {
       "model_id": "175ce0d778554700a9d5b9c4ea753a98",
       "version_major": 2,
       "version_minor": 0
      },
      "text/plain": [
       "interactive(children=(Text(value='3', description='z'), Output()), _dom_classes=('widget-interact',))"
      ]
     },
     "metadata": {},
     "output_type": "display_data"
    },
    {
     "name": "stdout",
     "output_type": "stream",
     "text": [
      "Enter the cutoff date before or after a significant event in history.  If no event exists, use the final date in the time series. Format is YYYY/MM/DD.\n"
     ]
    },
    {
     "data": {
      "application/vnd.jupyter.widget-view+json": {
       "model_id": "5d3a51da01e3497086cd93f32cc42d48",
       "version_major": 2,
       "version_minor": 0
      },
      "text/plain": [
       "interactive(children=(Text(value='2017/08/15', description='z'), Output()), _dom_classes=('widget-interact',))"
      ]
     },
     "metadata": {},
     "output_type": "display_data"
    },
    {
     "name": "stdout",
     "output_type": "stream",
     "text": [
      "Enter an uncertainty multiplier.  The mean absolute error of the ARIMA model vs. your data before the cutoff date will be used to set error bars and flag anomalies.  The uncertainty value is multipled by the MAE value to produce wider or tighter error bounds.\n"
     ]
    },
    {
     "data": {
      "application/vnd.jupyter.widget-view+json": {
       "model_id": "96001f79b558485c82a58ad6ef7a807e",
       "version_major": 2,
       "version_minor": 0
      },
      "text/plain": [
       "interactive(children=(Text(value='3', description='z'), Output()), _dom_classes=('widget-interact',))"
      ]
     },
     "metadata": {},
     "output_type": "display_data"
    },
    {
     "data": {
      "application/vnd.jupyter.widget-view+json": {
       "model_id": "603f7faf7235423392b65b0f2158ab37",
       "version_major": 2,
       "version_minor": 0
      },
      "text/plain": [
       "Button(description='Execute...', style=ButtonStyle())"
      ]
     },
     "metadata": {},
     "output_type": "display_data"
    },
    {
     "name": "stdout",
     "output_type": "stream",
     "text": [
      "Calculating...\n"
     ]
    },
    {
     "name": "stderr",
     "output_type": "stream",
     "text": [
      "100%|████████████████████████████████████████████████████████████████████████████████████| 1/1 [00:00<00:00,  2.37it/s]\n"
     ]
    },
    {
     "name": "stdout",
     "output_type": "stream",
     "text": [
      "Plotting...\n"
     ]
    },
    {
     "data": {
      "image/png": "[encoded data removed]",
      "text/plain": [
       "<Figure size 864x432 with 1 Axes>"
      ]
     },
     "metadata": {},
     "output_type": "display_data"
    }
   ],
   "source": [
    "print(\"Enter csv as output by CometTS(ex: /San_Juan_FullStats.csv)\")\n",
    "try:\n",
    "    comet_csv\n",
    "except NameError:\n",
    "    comet_csv = interactive(f, z=os.path.join(input_path,'San_Juan_FullStats.csv'))\n",
    "    display(comet_csv)\n",
    "else:\n",
    "    comet_csv = str(comet_csv.children[0].value)\n",
    "    comet_csv = interactive(f, z=comet_csv)\n",
    "    display(comet_csv)\n",
    "\n",
    "print(\"Enter the output path for all ARIMA statistics (ex: /San_Juan_FullStats_ARIMA.csv)\")\n",
    "try:\n",
    "    arima_output\n",
    "except NameError:\n",
    "    arima_output = interactive(f, z=os.path.join(input_path,'San_Juan_FullStats_ARIMA.csv'))\n",
    "    display(arima_output)\n",
    "else:\n",
    "    arima_output = str(arima_output.children[0].value)\n",
    "    arima_output = interactive(f, z=arima_output)\n",
    "    display(arima_output)\n",
    "\n",
    "print(\"Enter the centered moving average amount (typically 3, 5, or a larger odd number)\")\n",
    "try:\n",
    "    CMA\n",
    "except NameError:\n",
    "    CMA = interactive(f, z='3')\n",
    "    display(CMA)\n",
    "else:\n",
    "    CMA = str(CMA.children[0].value)\n",
    "    CMA = interactive(f, z=CMA)\n",
    "    display(CMA)\n",
    "\n",
    "print(\"Enter the cutoff date before or after a significant event in history.  If no event exists, use the final date in the time series. Format is YYYY/MM/DD.\")\n",
    "try:\n",
    "    Cutoff_Date\n",
    "except NameError:\n",
    "    Cutoff_Date = interactive(f, z=\"2017/08/15\")\n",
    "    display(Cutoff_Date)\n",
    "else:\n",
    "    Cutoff_Date = str(Cutoff_Date.children[0].value)\n",
    "    Cutoff_Date = interactive(f, z=Cutoff_Date)\n",
    "    display(Cutoff_Date)\n",
    "\n",
    "    \n",
    "print(\"Enter an uncertainty multiplier.  The mean absolute error of the ARIMA model vs. your data before the cutoff date will be used to set error bars and flag anomalies.  The uncertainty value is multipled by the MAE value to produce wider or tighter error bounds.\")\n",
    "try:\n",
    "    Uncertainty\n",
    "except NameError:\n",
    "    Uncertainty = interactive(f, z='3')\n",
    "    display(Uncertainty)\n",
    "else:\n",
    "    Uncertainty = str(Uncertainty.children[0].value)\n",
    "    Uncertainty = interactive(f, z=Uncertainty)\n",
    "    display(Uncertainty)\n",
    "    \n",
    "def gen_plots(input_csv):\n",
    "    df = pd.read_csv(input_csv)\n",
    "    df = df.sort_values(['date'])\n",
    "    geometry = df['geometry'].map(shapely.wkt.loads)\n",
    "    crs = {'init': 'epsg:2263'}\n",
    "    gdf = gpd.GeoDataFrame(df, crs=crs, geometry=geometry)\n",
    "    gdf['date'] = pd.to_datetime(gdf['date'], infer_datetime_format=True)\n",
    "    # run_plot(gdf, y_label=\"NDVI\", title_label= \"NDVI over time - ID: \")\n",
    "    run_plot_arima(gdf)  \n",
    "\n",
    "def arima_time(ev):\n",
    "    run_arima(\n",
    "        comet_csv.children[0].value.strip(),\n",
    "        arima_output.children[0].value.strip(),\n",
    "        int(CMA.children[0].value.strip()),\n",
    "        Cutoff_Date.children[0].value.strip(),\n",
    "        float(Uncertainty.children[0].value.strip()))\n",
    "    %matplotlib inline\n",
    "    gen_plots(arima_output.children[0].value.strip())\n",
    "\n",
    "\n",
    "checkbox = widgets.Checkbox(\n",
    "    value=True,\n",
    "    description='Mask Rasters',\n",
    "    disabled=False\n",
    ")\n",
    "\n",
    "\n",
    "button = widgets.Button(description=\"Execute...\")\n",
    "button.on_click(arima_time)\n",
    "display(button)"
   ]
  },
  {
   "cell_type": "code",
   "execution_count": null,
   "metadata": {},
   "outputs": [],
   "source": []
  }
 ],
 "metadata": {
  "extensions": {
   "jupyter_dashboards": {
    "activeView": "report_default",
    "version": 1,
    "views": {
     "grid_default": {
      "cellMargin": 10,
      "defaultCellHeight": 20,
      "maxColumns": 12,
      "name": "grid",
      "type": "grid"
     },
     "report_default": {
      "name": "report",
      "type": "report"
     }
    }
   }
  },
  "kernelspec": {
   "display_name": "Python 3",
   "language": "python",
   "name": "python3"
  },
  "language_info": {
   "codemirror_mode": {
    "name": "ipython",
    "version": 3
   },
   "file_extension": ".py",
   "mimetype": "text/x-python",
   "name": "python",
   "nbconvert_exporter": "python",
   "pygments_lexer": "ipython3",
   "version": "3.7.8"
  },
  "widgets": {
   "application/vnd.jupyter.widget-state+json": {
    "state": {
     "009c810b6f2741a3a1da7249a7e1066a": {
      "model_module": "@jupyter-widgets/base",
      "model_module_version": "1.0.0",
      "model_name": "LayoutModel",
      "state": {}
     },
     "00a719f2f8fa497c9ac63e8c6372d440": {
      "model_module": "@jupyter-widgets/controls",
      "model_module_version": "1.0.0",
      "model_name": "VBoxModel",
      "state": {
       "_dom_classes": [
        "widget-interact"
       ],
       "children": [
        "IPY_MODEL_51935dbee99245d2b6fa75a4e363461c",
        "IPY_MODEL_dd53c0e6c84140d5be97b10623a994cb"
       ],
       "layout": "IPY_MODEL_9f436acccf0444379df2194de2c580cc"
      }
     },
     "0175678b316f42d7b726fd1de94a132a": {
      "model_module": "@jupyter-widgets/controls",
      "model_module_version": "1.0.0",
      "model_name": "TextModel",
      "state": {
       "description": "z",
       "layout": "IPY_MODEL_58ed108b15944156b74cc1581b882d7b",
       "style": "IPY_MODEL_bd98cdec82244401b432b509b6db2ee1"
      }
     },
     "0268fa988c604e268eb3a43107960568": {
      "model_module": "@jupyter-widgets/base",
      "model_module_version": "1.0.0",
      "model_name": "LayoutModel",
      "state": {}
     },
     "069cb4b3058c4d528c023d44572ef13d": {
      "model_module": "@jupyter-widgets/base",
      "model_module_version": "1.0.0",
      "model_name": "LayoutModel",
      "state": {}
     },
     "08b875ad026247cfbb210417b539c658": {
      "model_module": "@jupyter-widgets/base",
      "model_module_version": "1.0.0",
      "model_name": "LayoutModel",
      "state": {}
     },
     "08fe99c284ab4089a2fe40f76a6dae5e": {
      "model_module": "@jupyter-widgets/base",
      "model_module_version": "1.0.0",
      "model_name": "LayoutModel",
      "state": {}
     },
     "09376815b8ed470ea23ac36c17913455": {
      "model_module": "@jupyter-widgets/output",
      "model_module_version": "1.0.0",
      "model_name": "OutputModel",
      "state": {
       "layout": "IPY_MODEL_520e109b765647bbb06d3757282aeb3b"
      }
     },
     "09e1c273af0a47b29355adf3b53d5571": {
      "model_module": "@jupyter-widgets/output",
      "model_module_version": "1.0.0",
      "model_name": "OutputModel",
      "state": {
       "layout": "IPY_MODEL_50dba21ea2ac42bf85cbab83bc9046f1"
      }
     },
     "09eda0fa33d14ad4af63c01379e850fd": {
      "model_module": "@jupyter-widgets/controls",
      "model_module_version": "1.0.0",
      "model_name": "DescriptionStyleModel",
      "state": {
       "description_width": ""
      }
     },
     "0c17484713ea4125b60e6281b7dda8c5": {
      "model_module": "@jupyter-widgets/controls",
      "model_module_version": "1.0.0",
      "model_name": "DescriptionStyleModel",
      "state": {
       "description_width": ""
      }
     },
     "0dace4062dd04af78a020b1be4db0fb7": {
      "model_module": "@jupyter-widgets/base",
      "model_module_version": "1.0.0",
      "model_name": "LayoutModel",
      "state": {}
     },
     "0e2761ecc66344ba9fa12ddd199657c7": {
      "model_module": "@jupyter-widgets/controls",
      "model_module_version": "1.0.0",
      "model_name": "VBoxModel",
      "state": {
       "_dom_classes": [
        "widget-interact"
       ],
       "children": [
        "IPY_MODEL_52958aa1f059488280f94d76627dcf68",
        "IPY_MODEL_4692e440f7d84203951ab3a18017cb3d"
       ],
       "layout": "IPY_MODEL_a551f35f758a4ca6bae2861e48e10ddd"
      }
     },
     "109f8354be79474c8ba0af6e0b75da23": {
      "model_module": "@jupyter-widgets/controls",
      "model_module_version": "1.0.0",
      "model_name": "DescriptionStyleModel",
      "state": {
       "description_width": ""
      }
     },
     "11ea976dfe454252bbc5faf1d30e855e": {
      "model_module": "@jupyter-widgets/output",
      "model_module_version": "1.0.0",
      "model_name": "OutputModel",
      "state": {
       "layout": "IPY_MODEL_6d9446dff1aa4c9e8232342d0e5387c1"
      }
     },
     "1292377e71764a0391daa23a30d2c4b6": {
      "model_module": "@jupyter-widgets/output",
      "model_module_version": "1.0.0",
      "model_name": "OutputModel",
      "state": {
       "layout": "IPY_MODEL_2cb424cf0d274395a4addeeed390db9d"
      }
     },
     "12948abcf0e74a58a5f55b8cbbe65dba": {
      "model_module": "@jupyter-widgets/controls",
      "model_module_version": "1.0.0",
      "model_name": "VBoxModel",
      "state": {
       "_dom_classes": [
        "widget-interact"
       ],
       "children": [
        "IPY_MODEL_3afc1a3e309c48a6830bb8fce0943a6e",
        "IPY_MODEL_2979c7d0b47049ef95f528446bca6204"
       ],
       "layout": "IPY_MODEL_7132c85766c94da282e847d08162c857"
      }
     },
     "17058ebb4ccf4e45ae0d15cd6c67e213": {
      "model_module": "@jupyter-widgets/base",
      "model_module_version": "1.0.0",
      "model_name": "LayoutModel",
      "state": {}
     },
     "1a86515cc6d445fb86e3b499771def7d": {
      "model_module": "@jupyter-widgets/base",
      "model_module_version": "1.0.0",
      "model_name": "LayoutModel",
      "state": {}
     },
     "1b85e35ae1234ae9809450dd6b642c15": {
      "model_module": "@jupyter-widgets/controls",
      "model_module_version": "1.0.0",
      "model_name": "TextModel",
      "state": {
       "description": "z",
       "layout": "IPY_MODEL_b84ed0ea66f24ceba66b0181283664d8",
       "style": "IPY_MODEL_9aedb14796324453a18d1f417a875709",
       "value": "10:18"
      }
     },
     "1e1752ee03444a339f7045d8d408f11d": {
      "model_module": "@jupyter-widgets/base",
      "model_module_version": "1.0.0",
      "model_name": "LayoutModel",
      "state": {}
     },
     "1fc0d788242044a38e439c2918d97c22": {
      "model_module": "@jupyter-widgets/controls",
      "model_module_version": "1.0.0",
      "model_name": "DescriptionStyleModel",
      "state": {
       "description_width": ""
      }
     },
     "1fcbbd95d34647eea04bb86e65327915": {
      "model_module": "@jupyter-widgets/base",
      "model_module_version": "1.0.0",
      "model_name": "LayoutModel",
      "state": {}
     },
     "20999cc789364ff49bbbf2da864568df": {
      "model_module": "@jupyter-widgets/base",
      "model_module_version": "1.0.0",
      "model_name": "LayoutModel",
      "state": {}
     },
     "22e97186b2cd491a98eccc5cee109933": {
      "model_module": "@jupyter-widgets/controls",
      "model_module_version": "1.0.0",
      "model_name": "TextModel",
      "state": {
       "description": "z",
       "layout": "IPY_MODEL_7a9ffd7d6f514facb07634e805f15d4a",
       "style": "IPY_MODEL_616bd4d79caf4c39befa7d6439fb70da"
      }
     },
     "23d11636382f42ecaa01b88c2fbea814": {
      "model_module": "@jupyter-widgets/base",
      "model_module_version": "1.0.0",
      "model_name": "LayoutModel",
      "state": {}
     },
     "247208aad77e4cc28360c98e59b6c43b": {
      "model_module": "@jupyter-widgets/output",
      "model_module_version": "1.0.0",
      "model_name": "OutputModel",
      "state": {
       "layout": "IPY_MODEL_582c79db7def4212b41c0446425694c0"
      }
     },
     "257e69cf2eed4363a28bc7933b14572b": {
      "model_module": "@jupyter-widgets/controls",
      "model_module_version": "1.0.0",
      "model_name": "VBoxModel",
      "state": {
       "_dom_classes": [
        "widget-interact"
       ],
       "children": [
        "IPY_MODEL_f6dc40fba33942769dcb0dfe94005311",
        "IPY_MODEL_cc4efae58b0d4442a802bff5af760d1a"
       ],
       "layout": "IPY_MODEL_f40a69f2eb024ff292257fc456a739ea"
      }
     },
     "2638c4e51aff4af7b154384ceae97150": {
      "model_module": "@jupyter-widgets/controls",
      "model_module_version": "1.0.0",
      "model_name": "VBoxModel",
      "state": {
       "_dom_classes": [
        "widget-interact"
       ],
       "children": [
        "IPY_MODEL_dd1e25fddfa94ee0a331e2b18cb990ed",
        "IPY_MODEL_ff1a2901f11e4ea087f69361cc4f350b"
       ],
       "layout": "IPY_MODEL_069cb4b3058c4d528c023d44572ef13d"
      }
     },
     "26f31d21ea2b48bea89bf0e9172a38b5": {
      "model_module": "@jupyter-widgets/base",
      "model_module_version": "1.0.0",
      "model_name": "LayoutModel",
      "state": {}
     },
     "2890452c7d544e94ac4b8ff5c323490b": {
      "model_module": "@jupyter-widgets/base",
      "model_module_version": "1.0.0",
      "model_name": "LayoutModel",
      "state": {}
     },
     "2979c7d0b47049ef95f528446bca6204": {
      "model_module": "@jupyter-widgets/output",
      "model_module_version": "1.0.0",
      "model_name": "OutputModel",
      "state": {
       "layout": "IPY_MODEL_42bad4384f74413aaf2a738e4626b70a"
      }
     },
     "29d69a359ca345c8afd2170e7bfe2fde": {
      "model_module": "@jupyter-widgets/base",
      "model_module_version": "1.0.0",
      "model_name": "LayoutModel",
      "state": {}
     },
     "2b00791ecf6648cda2f547070485f5c5": {
      "model_module": "@jupyter-widgets/controls",
      "model_module_version": "1.0.0",
      "model_name": "DescriptionStyleModel",
      "state": {
       "description_width": ""
      }
     },
     "2c494031a7af407a923296dcf8337f49": {
      "model_module": "@jupyter-widgets/controls",
      "model_module_version": "1.0.0",
      "model_name": "TextModel",
      "state": {
       "description": "z",
       "layout": "IPY_MODEL_648586fc09a34ebfa951795b178db104",
       "style": "IPY_MODEL_09eda0fa33d14ad4af63c01379e850fd",
       "value": "/Volumes/LACIE/VIIRS/RasterStats/NiameyPoly_2.shp"
      }
     },
     "2cb424cf0d274395a4addeeed390db9d": {
      "model_module": "@jupyter-widgets/base",
      "model_module_version": "1.0.0",
      "model_name": "LayoutModel",
      "state": {}
     },
     "2f00a3b175d74156828ce40e4874039b": {
      "model_module": "@jupyter-widgets/controls",
      "model_module_version": "1.0.0",
      "model_name": "TextModel",
      "state": {
       "layout": "IPY_MODEL_009c810b6f2741a3a1da7249a7e1066a",
       "style": "IPY_MODEL_2f242caa67444719a20f9c8430add87a"
      }
     },
     "2f242caa67444719a20f9c8430add87a": {
      "model_module": "@jupyter-widgets/controls",
      "model_module_version": "1.0.0",
      "model_name": "DescriptionStyleModel",
      "state": {
       "description_width": ""
      }
     },
     "30bb7696adbc4fa5ab5a334f2f775eea": {
      "model_module": "@jupyter-widgets/output",
      "model_module_version": "1.0.0",
      "model_name": "OutputModel",
      "state": {
       "layout": "IPY_MODEL_5724a2587d3e4190878f593d8bbf0115"
      }
     },
     "341f6501c939476b8da2b92a14ddf305": {
      "model_module": "@jupyter-widgets/base",
      "model_module_version": "1.0.0",
      "model_name": "LayoutModel",
      "state": {}
     },
     "35d829846adb443bb17a57e0ff736b39": {
      "model_module": "@jupyter-widgets/base",
      "model_module_version": "1.0.0",
      "model_name": "LayoutModel",
      "state": {}
     },
     "38700d4071554d009f784679982ac2f7": {
      "model_module": "@jupyter-widgets/controls",
      "model_module_version": "1.0.0",
      "model_name": "TextModel",
      "state": {
       "layout": "IPY_MODEL_fb9f298b137c4bd88973cc1531fcde5a",
       "style": "IPY_MODEL_96071d51aa934b0089697401061b5039"
      }
     },
     "38b3368647004691b2205326408f9615": {
      "model_module": "@jupyter-widgets/controls",
      "model_module_version": "1.0.0",
      "model_name": "TextModel",
      "state": {
       "description": "z",
       "layout": "IPY_MODEL_d5e96344d89e4d8aae7bea7864d778c4",
       "style": "IPY_MODEL_d6fb7586172e4bcaa6fb5653b7bc638f"
      }
     },
     "3afc1a3e309c48a6830bb8fce0943a6e": {
      "model_module": "@jupyter-widgets/controls",
      "model_module_version": "1.0.0",
      "model_name": "TextModel",
      "state": {
       "description": "z",
       "layout": "IPY_MODEL_4eb38afa6b0841569a15839fe999ef67",
       "style": "IPY_MODEL_d03debdd48b245939acd89c8c6cdd390"
      }
     },
     "3bc05fa7a0444e989c510115d5be1ad8": {
      "model_module": "@jupyter-widgets/base",
      "model_module_version": "1.0.0",
      "model_name": "LayoutModel",
      "state": {}
     },
     "3c90e2881aee40169a83f4ce4ae00813": {
      "model_module": "@jupyter-widgets/controls",
      "model_module_version": "1.0.0",
      "model_name": "DescriptionStyleModel",
      "state": {
       "description_width": ""
      }
     },
     "3f6d4b05313c422e907241368dc55ea2": {
      "model_module": "@jupyter-widgets/base",
      "model_module_version": "1.0.0",
      "model_name": "LayoutModel",
      "state": {}
     },
     "41350521f9114d928a583200864c0750": {
      "model_module": "@jupyter-widgets/base",
      "model_module_version": "1.0.0",
      "model_name": "LayoutModel",
      "state": {}
     },
     "41a88424a0fa46049066c37d6427cb9e": {
      "model_module": "@jupyter-widgets/controls",
      "model_module_version": "1.0.0",
      "model_name": "VBoxModel",
      "state": {
       "_dom_classes": [
        "widget-interact"
       ],
       "children": [
        "IPY_MODEL_2c494031a7af407a923296dcf8337f49",
        "IPY_MODEL_fd0c1a867fa64bd1a19004e136ef45c2"
       ],
       "layout": "IPY_MODEL_e820189f30f74f03a194d1dfb1f8e911"
      }
     },
     "41fbc10d955049c392b52a0741d038a4": {
      "model_module": "@jupyter-widgets/controls",
      "model_module_version": "1.0.0",
      "model_name": "VBoxModel",
      "state": {
       "_dom_classes": [
        "widget-interact"
       ],
       "children": [
        "IPY_MODEL_aaa663ed94d14ec09fdb74cdaaf863d2",
        "IPY_MODEL_30bb7696adbc4fa5ab5a334f2f775eea"
       ],
       "layout": "IPY_MODEL_6249eb937a9c4502bfd0723edde82572"
      }
     },
     "42bad4384f74413aaf2a738e4626b70a": {
      "model_module": "@jupyter-widgets/base",
      "model_module_version": "1.0.0",
      "model_name": "LayoutModel",
      "state": {}
     },
     "449198765b6e4ee3b94ce35ee571f705": {
      "model_module": "@jupyter-widgets/controls",
      "model_module_version": "1.0.0",
      "model_name": "DescriptionStyleModel",
      "state": {
       "description_width": ""
      }
     },
     "4692e440f7d84203951ab3a18017cb3d": {
      "model_module": "@jupyter-widgets/output",
      "model_module_version": "1.0.0",
      "model_name": "OutputModel",
      "state": {
       "layout": "IPY_MODEL_d8e1a50bce9e45189ec293c7ae3c2df7"
      }
     },
     "49410cdf148e4baaa6caf6b04ecc1e71": {
      "model_module": "@jupyter-widgets/base",
      "model_module_version": "1.0.0",
      "model_name": "LayoutModel",
      "state": {}
     },
     "49a21c22c0bc4a3b86dd37fab236baf4": {
      "model_module": "@jupyter-widgets/base",
      "model_module_version": "1.0.0",
      "model_name": "LayoutModel",
      "state": {}
     },
     "4adef668afac41de92b31fa747d31be9": {
      "model_module": "@jupyter-widgets/controls",
      "model_module_version": "1.0.0",
      "model_name": "TextModel",
      "state": {
       "layout": "IPY_MODEL_08fe99c284ab4089a2fe40f76a6dae5e",
       "style": "IPY_MODEL_449198765b6e4ee3b94ce35ee571f705"
      }
     },
     "4c0ab6ec10de4bd18e5acacb50b3a761": {
      "model_module": "@jupyter-widgets/controls",
      "model_module_version": "1.0.0",
      "model_name": "DescriptionStyleModel",
      "state": {
       "description_width": ""
      }
     },
     "4ca96746cde04197a71a59e0615c78c6": {
      "model_module": "@jupyter-widgets/base",
      "model_module_version": "1.0.0",
      "model_name": "LayoutModel",
      "state": {}
     },
     "4eb38afa6b0841569a15839fe999ef67": {
      "model_module": "@jupyter-widgets/base",
      "model_module_version": "1.0.0",
      "model_name": "LayoutModel",
      "state": {}
     },
     "50bf0b3c5e554342bb854c9b8a302a75": {
      "model_module": "@jupyter-widgets/output",
      "model_module_version": "1.0.0",
      "model_name": "OutputModel",
      "state": {
       "layout": "IPY_MODEL_db807976f8f7488f8605c7bb97dd1085"
      }
     },
     "50dba21ea2ac42bf85cbab83bc9046f1": {
      "model_module": "@jupyter-widgets/base",
      "model_module_version": "1.0.0",
      "model_name": "LayoutModel",
      "state": {}
     },
     "51935dbee99245d2b6fa75a4e363461c": {
      "model_module": "@jupyter-widgets/controls",
      "model_module_version": "1.0.0",
      "model_name": "TextModel",
      "state": {
       "description": "z",
       "layout": "IPY_MODEL_3f6d4b05313c422e907241368dc55ea2",
       "style": "IPY_MODEL_ba61631a5cb142f49134c5fedb99c959"
      }
     },
     "51e5ccaa53d6439096ab2841cb20195e": {
      "model_module": "@jupyter-widgets/base",
      "model_module_version": "1.0.0",
      "model_name": "LayoutModel",
      "state": {}
     },
     "520e109b765647bbb06d3757282aeb3b": {
      "model_module": "@jupyter-widgets/base",
      "model_module_version": "1.0.0",
      "model_name": "LayoutModel",
      "state": {}
     },
     "528475af6a0649ff867010a9bad75786": {
      "model_module": "@jupyter-widgets/base",
      "model_module_version": "1.0.0",
      "model_name": "LayoutModel",
      "state": {}
     },
     "52958aa1f059488280f94d76627dcf68": {
      "model_module": "@jupyter-widgets/controls",
      "model_module_version": "1.0.0",
      "model_name": "TextModel",
      "state": {
       "description": "z",
       "layout": "IPY_MODEL_1fcbbd95d34647eea04bb86e65327915",
       "style": "IPY_MODEL_c973d2a02e3c45d2a5511e7cca88e2c3",
       "value": "/Volumes/LACIE/VIIRS/MonthlyComposites/SVDNB"
      }
     },
     "5612acb360a04d198ed6c34d90f5806e": {
      "model_module": "@jupyter-widgets/controls",
      "model_module_version": "1.0.0",
      "model_name": "DescriptionStyleModel",
      "state": {
       "description_width": ""
      }
     },
     "5621dfc91cbe47789632e0a9c4fe5248": {
      "model_module": "@jupyter-widgets/output",
      "model_module_version": "1.0.0",
      "model_name": "OutputModel",
      "state": {
       "layout": "IPY_MODEL_41350521f9114d928a583200864c0750"
      }
     },
     "5724a2587d3e4190878f593d8bbf0115": {
      "model_module": "@jupyter-widgets/base",
      "model_module_version": "1.0.0",
      "model_name": "LayoutModel",
      "state": {}
     },
     "57f91a81b4e143fc8d5a7f0aa188e019": {
      "model_module": "@jupyter-widgets/controls",
      "model_module_version": "1.0.0",
      "model_name": "DescriptionStyleModel",
      "state": {
       "description_width": ""
      }
     },
     "582c79db7def4212b41c0446425694c0": {
      "model_module": "@jupyter-widgets/base",
      "model_module_version": "1.0.0",
      "model_name": "LayoutModel",
      "state": {}
     },
     "58ed108b15944156b74cc1581b882d7b": {
      "model_module": "@jupyter-widgets/base",
      "model_module_version": "1.0.0",
      "model_name": "LayoutModel",
      "state": {}
     },
     "5ab58cd1637e429aad0d95503c170bb5": {
      "model_module": "@jupyter-widgets/output",
      "model_module_version": "1.0.0",
      "model_name": "OutputModel",
      "state": {
       "layout": "IPY_MODEL_8631159f06e54cdd8a1d8c995a888df4"
      }
     },
     "5aba291bc1e74806914d6842923b0b71": {
      "model_module": "@jupyter-widgets/output",
      "model_module_version": "1.0.0",
      "model_name": "OutputModel",
      "state": {
       "layout": "IPY_MODEL_49410cdf148e4baaa6caf6b04ecc1e71"
      }
     },
     "5bed0a64eed04da9b33f4c8df65fc98c": {
      "model_module": "@jupyter-widgets/controls",
      "model_module_version": "1.0.0",
      "model_name": "TextModel",
      "state": {
       "layout": "IPY_MODEL_7288330dfaac4815b8cac14154c0b219",
       "style": "IPY_MODEL_e86bd21b04c145a0a53defadbace9286"
      }
     },
     "5c69fc8be3f24780bdd6b3885856ae77": {
      "model_module": "@jupyter-widgets/base",
      "model_module_version": "1.0.0",
      "model_name": "LayoutModel",
      "state": {}
     },
     "5d2b5015bfe7411e9b4e87e4096dc654": {
      "model_module": "@jupyter-widgets/base",
      "model_module_version": "1.0.0",
      "model_name": "LayoutModel",
      "state": {}
     },
     "60038d4f36dc4c159dd324353c0e2b05": {
      "model_module": "@jupyter-widgets/output",
      "model_module_version": "1.0.0",
      "model_name": "OutputModel",
      "state": {
       "layout": "IPY_MODEL_ba4cbb09d7834f24afea01318f5f0ff9"
      }
     },
     "60434c87c46d4b7b9e742bcccd3708ef": {
      "model_module": "@jupyter-widgets/base",
      "model_module_version": "1.0.0",
      "model_name": "LayoutModel",
      "state": {}
     },
     "616bd4d79caf4c39befa7d6439fb70da": {
      "model_module": "@jupyter-widgets/controls",
      "model_module_version": "1.0.0",
      "model_name": "DescriptionStyleModel",
      "state": {
       "description_width": ""
      }
     },
     "6249eb937a9c4502bfd0723edde82572": {
      "model_module": "@jupyter-widgets/base",
      "model_module_version": "1.0.0",
      "model_name": "LayoutModel",
      "state": {}
     },
     "648586fc09a34ebfa951795b178db104": {
      "model_module": "@jupyter-widgets/base",
      "model_module_version": "1.0.0",
      "model_name": "LayoutModel",
      "state": {}
     },
     "669a3d19d51446b0a15e4de53cc8a1cf": {
      "model_module": "@jupyter-widgets/controls",
      "model_module_version": "1.0.0",
      "model_name": "TextModel",
      "state": {
       "description": "z",
       "layout": "IPY_MODEL_e511ad4aba8d4be4b513660944604cd4",
       "style": "IPY_MODEL_8a398c0828db44afa6463accdb5da93c"
      }
     },
     "66b210aaac4a4d39a3457d4173dd13cb": {
      "model_module": "@jupyter-widgets/output",
      "model_module_version": "1.0.0",
      "model_name": "OutputModel",
      "state": {
       "layout": "IPY_MODEL_6cecf2f0303e4196b740d072e429d3f4"
      }
     },
     "6799d451f10143f89d4442efaa4e42ff": {
      "model_module": "@jupyter-widgets/base",
      "model_module_version": "1.0.0",
      "model_name": "LayoutModel",
      "state": {}
     },
     "6a1e3933610049e29122bbed40db805e": {
      "model_module": "@jupyter-widgets/controls",
      "model_module_version": "1.0.0",
      "model_name": "DescriptionStyleModel",
      "state": {
       "description_width": ""
      }
     },
     "6c1708342ed64b71876609b4a40b969d": {
      "model_module": "@jupyter-widgets/base",
      "model_module_version": "1.0.0",
      "model_name": "LayoutModel",
      "state": {}
     },
     "6cecf2f0303e4196b740d072e429d3f4": {
      "model_module": "@jupyter-widgets/base",
      "model_module_version": "1.0.0",
      "model_name": "LayoutModel",
      "state": {}
     },
     "6d10159814d3444690ce55d6c97f6624": {
      "model_module": "@jupyter-widgets/base",
      "model_module_version": "1.0.0",
      "model_name": "LayoutModel",
      "state": {}
     },
     "6d9446dff1aa4c9e8232342d0e5387c1": {
      "model_module": "@jupyter-widgets/base",
      "model_module_version": "1.0.0",
      "model_name": "LayoutModel",
      "state": {}
     },
     "6f6831ed0c884e72bac2548830679f3f": {
      "model_module": "@jupyter-widgets/controls",
      "model_module_version": "1.0.0",
      "model_name": "TextModel",
      "state": {
       "description": "z",
       "layout": "IPY_MODEL_20999cc789364ff49bbbf2da864568df",
       "style": "IPY_MODEL_aeeddadc62564e449e0bd02317e12211",
       "value": "S*rade9.tif"
      }
     },
     "700bb9cbe4664b2b935e989deeb40d75": {
      "model_module": "@jupyter-widgets/controls",
      "model_module_version": "1.0.0",
      "model_name": "DescriptionStyleModel",
      "state": {
       "description_width": ""
      }
     },
     "7046501c20674373afb63aedbbdc3729": {
      "model_module": "@jupyter-widgets/base",
      "model_module_version": "1.0.0",
      "model_name": "LayoutModel",
      "state": {}
     },
     "7132c85766c94da282e847d08162c857": {
      "model_module": "@jupyter-widgets/base",
      "model_module_version": "1.0.0",
      "model_name": "LayoutModel",
      "state": {}
     },
     "7255ca2768be417894fdd699fa8ff471": {
      "model_module": "@jupyter-widgets/controls",
      "model_module_version": "1.0.0",
      "model_name": "TextModel",
      "state": {
       "description": "z",
       "layout": "IPY_MODEL_7046501c20674373afb63aedbbdc3729",
       "style": "IPY_MODEL_57f91a81b4e143fc8d5a7f0aa188e019"
      }
     },
     "7288330dfaac4815b8cac14154c0b219": {
      "model_module": "@jupyter-widgets/base",
      "model_module_version": "1.0.0",
      "model_name": "LayoutModel",
      "state": {}
     },
     "74e4c6eaf2154e3c9e35f538ab3078cb": {
      "model_module": "@jupyter-widgets/controls",
      "model_module_version": "1.0.0",
      "model_name": "TextModel",
      "state": {
       "description": "z",
       "layout": "IPY_MODEL_9c91bcf6bcaa41e39523158096e67890",
       "style": "IPY_MODEL_9e57fd7402f74757a528aadda57352b9",
       "value": "S*rade9.tif"
      }
     },
     "794732ed70dd4cdc9863791964393de9": {
      "model_module": "@jupyter-widgets/output",
      "model_module_version": "1.0.0",
      "model_name": "OutputModel",
      "state": {
       "layout": "IPY_MODEL_bdacbdac5a104505896371f28ea06a79"
      }
     },
     "7a0562c8d8964865b0d6b0401ca8cb19": {
      "model_module": "@jupyter-widgets/controls",
      "model_module_version": "1.0.0",
      "model_name": "TextModel",
      "state": {
       "description": "z",
       "layout": "IPY_MODEL_1a86515cc6d445fb86e3b499771def7d",
       "style": "IPY_MODEL_c834dbf7330a4188a87586b41de8eed7"
      }
     },
     "7a9ffd7d6f514facb07634e805f15d4a": {
      "model_module": "@jupyter-widgets/base",
      "model_module_version": "1.0.0",
      "model_name": "LayoutModel",
      "state": {}
     },
     "7c7b3453a75c431ab2cec163ddcfc9ca": {
      "model_module": "@jupyter-widgets/controls",
      "model_module_version": "1.0.0",
      "model_name": "VBoxModel",
      "state": {
       "_dom_classes": [
        "widget-interact"
       ],
       "children": [
        "IPY_MODEL_38b3368647004691b2205326408f9615",
        "IPY_MODEL_b7da3fe363c240c3b7c9750a7dc1517b"
       ],
       "layout": "IPY_MODEL_e6f2b05bcb9840b2b1b81f54cb0977dc"
      }
     },
     "7d1607cca9e44a20a51f0db4493771a3": {
      "model_module": "@jupyter-widgets/controls",
      "model_module_version": "1.0.0",
      "model_name": "DescriptionStyleModel",
      "state": {
       "description_width": ""
      }
     },
     "7e2960756cb34dd29b5c386169ea9713": {
      "model_module": "@jupyter-widgets/controls",
      "model_module_version": "1.0.0",
      "model_name": "TextModel",
      "state": {
       "description": "z",
       "layout": "IPY_MODEL_afbb9e4e80554ef6904c8463a077049f",
       "style": "IPY_MODEL_6a1e3933610049e29122bbed40db805e"
      }
     },
     "7ee439224bd34dcbbe246a37a346435b": {
      "model_module": "@jupyter-widgets/base",
      "model_module_version": "1.0.0",
      "model_name": "LayoutModel",
      "state": {}
     },
     "7fed1e7af8a9427ba28c945e6f84b9b1": {
      "model_module": "@jupyter-widgets/base",
      "model_module_version": "1.0.0",
      "model_name": "LayoutModel",
      "state": {}
     },
     "817a70ac3f5c4bcca1449a6b469a0142": {
      "model_module": "@jupyter-widgets/base",
      "model_module_version": "1.0.0",
      "model_name": "LayoutModel",
      "state": {}
     },
     "821fd4ea14e041dc9ab7fb3204d331ec": {
      "model_module": "@jupyter-widgets/base",
      "model_module_version": "1.0.0",
      "model_name": "LayoutModel",
      "state": {}
     },
     "82646b605b854933b0d1f17edd7e4a58": {
      "model_module": "@jupyter-widgets/controls",
      "model_module_version": "1.0.0",
      "model_name": "TextModel",
      "state": {
       "description": "z",
       "layout": "IPY_MODEL_a7e70479ff9449adb5fa42c8c52de0c6",
       "style": "IPY_MODEL_8d3d0953101a4da2b702155bc44841e0",
       "value": "Enter full path to time-series raster data here"
      }
     },
     "8631159f06e54cdd8a1d8c995a888df4": {
      "model_module": "@jupyter-widgets/base",
      "model_module_version": "1.0.0",
      "model_name": "LayoutModel",
      "state": {}
     },
     "874ef2815bf243158c40e506d6c992a1": {
      "model_module": "@jupyter-widgets/controls",
      "model_module_version": "1.0.0",
      "model_name": "TextModel",
      "state": {
       "description": "z",
       "layout": "IPY_MODEL_6d10159814d3444690ce55d6c97f6624",
       "style": "IPY_MODEL_ca70bf825c074a9f92a479859f239d04"
      }
     },
     "87934d3a77ee4aeb86827aaa6b0342ce": {
      "model_module": "@jupyter-widgets/controls",
      "model_module_version": "1.0.0",
      "model_name": "TextModel",
      "state": {
       "layout": "IPY_MODEL_aa1615d6f4cb435f8f386c6b22fa21d2",
       "style": "IPY_MODEL_8e44842742074fef9c6499b257ffb1bf"
      }
     },
     "8a398c0828db44afa6463accdb5da93c": {
      "model_module": "@jupyter-widgets/controls",
      "model_module_version": "1.0.0",
      "model_name": "DescriptionStyleModel",
      "state": {
       "description_width": ""
      }
     },
     "8ce856f79d9c49e3813ea2778b876696": {
      "model_module": "@jupyter-widgets/output",
      "model_module_version": "1.0.0",
      "model_name": "OutputModel",
      "state": {
       "layout": "IPY_MODEL_2890452c7d544e94ac4b8ff5c323490b"
      }
     },
     "8d3d0953101a4da2b702155bc44841e0": {
      "model_module": "@jupyter-widgets/controls",
      "model_module_version": "1.0.0",
      "model_name": "DescriptionStyleModel",
      "state": {
       "description_width": ""
      }
     },
     "8e44842742074fef9c6499b257ffb1bf": {
      "model_module": "@jupyter-widgets/controls",
      "model_module_version": "1.0.0",
      "model_name": "DescriptionStyleModel",
      "state": {
       "description_width": ""
      }
     },
     "8f0cb10f1e734af2837e5fb1d2d02948": {
      "model_module": "@jupyter-widgets/output",
      "model_module_version": "1.0.0",
      "model_name": "OutputModel",
      "state": {
       "layout": "IPY_MODEL_d60275b96e564f12879d3d5ec6009545"
      }
     },
     "8f8e88c086f54d9bbc28aa1c81990c5e": {
      "model_module": "@jupyter-widgets/base",
      "model_module_version": "1.0.0",
      "model_name": "LayoutModel",
      "state": {}
     },
     "92087ae1c88d4d80bc9b86069870a52e": {
      "model_module": "@jupyter-widgets/controls",
      "model_module_version": "1.0.0",
      "model_name": "VBoxModel",
      "state": {
       "_dom_classes": [
        "widget-interact"
       ],
       "children": [
        "IPY_MODEL_6f6831ed0c884e72bac2548830679f3f",
        "IPY_MODEL_5aba291bc1e74806914d6842923b0b71"
       ],
       "layout": "IPY_MODEL_f85fb1b975e4499a8a8d5772cc1e08ee"
      }
     },
     "92392c0da9074a96a7c3da60775a3833": {
      "model_module": "@jupyter-widgets/controls",
      "model_module_version": "1.0.0",
      "model_name": "VBoxModel",
      "state": {
       "_dom_classes": [
        "widget-interact"
       ],
       "children": [
        "IPY_MODEL_669a3d19d51446b0a15e4de53cc8a1cf",
        "IPY_MODEL_5621dfc91cbe47789632e0a9c4fe5248"
       ],
       "layout": "IPY_MODEL_dcb405cd8e60474eb4146eacf5fc8a33"
      }
     },
     "9514b83a017a4bb58c7a59bc8fe8ebad": {
      "model_module": "@jupyter-widgets/base",
      "model_module_version": "1.0.0",
      "model_name": "LayoutModel",
      "state": {}
     },
     "96071d51aa934b0089697401061b5039": {
      "model_module": "@jupyter-widgets/controls",
      "model_module_version": "1.0.0",
      "model_name": "DescriptionStyleModel",
      "state": {
       "description_width": ""
      }
     },
     "974d754c59fd4cc190a901de01c5588c": {
      "model_module": "@jupyter-widgets/base",
      "model_module_version": "1.0.0",
      "model_name": "LayoutModel",
      "state": {}
     },
     "989b917d608142448e7d42a906838afe": {
      "model_module": "@jupyter-widgets/base",
      "model_module_version": "1.0.0",
      "model_name": "LayoutModel",
      "state": {}
     },
     "9aedb14796324453a18d1f417a875709": {
      "model_module": "@jupyter-widgets/controls",
      "model_module_version": "1.0.0",
      "model_name": "DescriptionStyleModel",
      "state": {
       "description_width": ""
      }
     },
     "9b399926663340879bb94accf0954d1c": {
      "model_module": "@jupyter-widgets/controls",
      "model_module_version": "1.0.0",
      "model_name": "VBoxModel",
      "state": {
       "_dom_classes": [
        "widget-interact"
       ],
       "children": [
        "IPY_MODEL_7a0562c8d8964865b0d6b0401ca8cb19",
        "IPY_MODEL_5ab58cd1637e429aad0d95503c170bb5"
       ],
       "layout": "IPY_MODEL_ba44f88bc1434478b4ec13063ac99318"
      }
     },
     "9c71bf46d5b54d46bdb26c4889940f18": {
      "model_module": "@jupyter-widgets/controls",
      "model_module_version": "1.0.0",
      "model_name": "TextModel",
      "state": {
       "description": "z",
       "layout": "IPY_MODEL_0268fa988c604e268eb3a43107960568",
       "style": "IPY_MODEL_7d1607cca9e44a20a51f0db4493771a3",
       "value": "/Volumes/LACIE/VIIRS/MonthlyComposites/SVDNB"
      }
     },
     "9c91bcf6bcaa41e39523158096e67890": {
      "model_module": "@jupyter-widgets/base",
      "model_module_version": "1.0.0",
      "model_name": "LayoutModel",
      "state": {}
     },
     "9e57fd7402f74757a528aadda57352b9": {
      "model_module": "@jupyter-widgets/controls",
      "model_module_version": "1.0.0",
      "model_name": "DescriptionStyleModel",
      "state": {
       "description_width": ""
      }
     },
     "9f436acccf0444379df2194de2c580cc": {
      "model_module": "@jupyter-widgets/base",
      "model_module_version": "1.0.0",
      "model_name": "LayoutModel",
      "state": {}
     },
     "a12b3f3f7a2e44d4bd53bceb3251d77d": {
      "model_module": "@jupyter-widgets/controls",
      "model_module_version": "1.0.0",
      "model_name": "VBoxModel",
      "state": {
       "_dom_classes": [
        "widget-interact"
       ],
       "children": [
        "IPY_MODEL_22e97186b2cd491a98eccc5cee109933",
        "IPY_MODEL_50bf0b3c5e554342bb854c9b8a302a75"
       ],
       "layout": "IPY_MODEL_b5735e03553b49679fce54b4390e5180"
      }
     },
     "a3992976b82549d2aa681055710b12ed": {
      "model_module": "@jupyter-widgets/controls",
      "model_module_version": "1.0.0",
      "model_name": "VBoxModel",
      "state": {
       "_dom_classes": [
        "widget-interact"
       ],
       "children": [
        "IPY_MODEL_7e2960756cb34dd29b5c386169ea9713",
        "IPY_MODEL_8f0cb10f1e734af2837e5fb1d2d02948"
       ],
       "layout": "IPY_MODEL_fd73765fe65d4ae48459dae329d600a8"
      }
     },
     "a551f35f758a4ca6bae2861e48e10ddd": {
      "model_module": "@jupyter-widgets/base",
      "model_module_version": "1.0.0",
      "model_name": "LayoutModel",
      "state": {}
     },
     "a6951e73d1da455d858468203c75a576": {
      "model_module": "@jupyter-widgets/output",
      "model_module_version": "1.0.0",
      "model_name": "OutputModel",
      "state": {
       "layout": "IPY_MODEL_ae61c888fcfa4a2e93bfc231fd88e848"
      }
     },
     "a696596e99be4174ab0e68effef4f989": {
      "model_module": "@jupyter-widgets/controls",
      "model_module_version": "1.0.0",
      "model_name": "TextModel",
      "state": {
       "layout": "IPY_MODEL_35d829846adb443bb17a57e0ff736b39",
       "style": "IPY_MODEL_5612acb360a04d198ed6c34d90f5806e"
      }
     },
     "a71c2f5fbb404de1bb71f3b4e2b6fa9f": {
      "model_module": "@jupyter-widgets/controls",
      "model_module_version": "1.0.0",
      "model_name": "TextModel",
      "state": {
       "layout": "IPY_MODEL_7ee439224bd34dcbbe246a37a346435b",
       "style": "IPY_MODEL_3c90e2881aee40169a83f4ce4ae00813"
      }
     },
     "a7e70479ff9449adb5fa42c8c52de0c6": {
      "model_module": "@jupyter-widgets/base",
      "model_module_version": "1.0.0",
      "model_name": "LayoutModel",
      "state": {}
     },
     "aa1615d6f4cb435f8f386c6b22fa21d2": {
      "model_module": "@jupyter-widgets/base",
      "model_module_version": "1.0.0",
      "model_name": "LayoutModel",
      "state": {}
     },
     "aaa663ed94d14ec09fdb74cdaaf863d2": {
      "model_module": "@jupyter-widgets/controls",
      "model_module_version": "1.0.0",
      "model_name": "TextModel",
      "state": {
       "description": "z",
       "layout": "IPY_MODEL_cc65008f83064018a983a06f8632e5fa",
       "style": "IPY_MODEL_c5bbc1aae31145708f0400aedc7a82b1"
      }
     },
     "ab9f135a9a8e428da342929582ee2f64": {
      "model_module": "@jupyter-widgets/controls",
      "model_module_version": "1.0.0",
      "model_name": "TextModel",
      "state": {
       "layout": "IPY_MODEL_cb7887e300b840bab28ef4d7414799a6",
       "style": "IPY_MODEL_1fc0d788242044a38e439c2918d97c22"
      }
     },
     "abb91224c5894092824447cc353117d3": {
      "model_module": "@jupyter-widgets/controls",
      "model_module_version": "1.0.0",
      "model_name": "VBoxModel",
      "state": {
       "_dom_classes": [
        "widget-interact"
       ],
       "children": [
        "IPY_MODEL_ed0647026a2f4c6c8d2b5263b44d27f7",
        "IPY_MODEL_247208aad77e4cc28360c98e59b6c43b"
       ],
       "layout": "IPY_MODEL_26f31d21ea2b48bea89bf0e9172a38b5"
      }
     },
     "ac9fa480b168443d8a5ca5aae8d2966d": {
      "model_module": "@jupyter-widgets/base",
      "model_module_version": "1.0.0",
      "model_name": "LayoutModel",
      "state": {}
     },
     "ad295b6e56e84b378eb0475a13c11619": {
      "model_module": "@jupyter-widgets/base",
      "model_module_version": "1.0.0",
      "model_name": "LayoutModel",
      "state": {}
     },
     "ae2b761a70834398af444aec3be632ad": {
      "model_module": "@jupyter-widgets/controls",
      "model_module_version": "1.0.0",
      "model_name": "VBoxModel",
      "state": {
       "_dom_classes": [
        "widget-interact"
       ],
       "children": [
        "IPY_MODEL_0175678b316f42d7b726fd1de94a132a",
        "IPY_MODEL_f5bf1f25ddb74693a1f6ef5bac12e36a"
       ],
       "layout": "IPY_MODEL_c8afecbd45fd441ebd80ce652d79da9a"
      }
     },
     "ae3015a6ae4944c5864bb50ddb476490": {
      "model_module": "@jupyter-widgets/base",
      "model_module_version": "1.0.0",
      "model_name": "LayoutModel",
      "state": {}
     },
     "ae61c888fcfa4a2e93bfc231fd88e848": {
      "model_module": "@jupyter-widgets/base",
      "model_module_version": "1.0.0",
      "model_name": "LayoutModel",
      "state": {}
     },
     "aeeddadc62564e449e0bd02317e12211": {
      "model_module": "@jupyter-widgets/controls",
      "model_module_version": "1.0.0",
      "model_name": "DescriptionStyleModel",
      "state": {
       "description_width": ""
      }
     },
     "afbb9e4e80554ef6904c8463a077049f": {
      "model_module": "@jupyter-widgets/base",
      "model_module_version": "1.0.0",
      "model_name": "LayoutModel",
      "state": {}
     },
     "b068bfae30a64810999066e25d434d61": {
      "model_module": "@jupyter-widgets/controls",
      "model_module_version": "1.0.0",
      "model_name": "DescriptionStyleModel",
      "state": {
       "description_width": ""
      }
     },
     "b1cd6e678d0f422cbe4ab909e984c2c9": {
      "model_module": "@jupyter-widgets/controls",
      "model_module_version": "1.0.0",
      "model_name": "VBoxModel",
      "state": {
       "_dom_classes": [
        "widget-interact"
       ],
       "children": [
        "IPY_MODEL_7255ca2768be417894fdd699fa8ff471",
        "IPY_MODEL_11ea976dfe454252bbc5faf1d30e855e"
       ],
       "layout": "IPY_MODEL_bdd514fa222d468d88c5976ec68dfc91"
      }
     },
     "b309790c997f44e395efc187e59e7975": {
      "model_module": "@jupyter-widgets/base",
      "model_module_version": "1.0.0",
      "model_name": "LayoutModel",
      "state": {}
     },
     "b49792ead81c475e8436de4d997893e9": {
      "model_module": "@jupyter-widgets/base",
      "model_module_version": "1.0.0",
      "model_name": "LayoutModel",
      "state": {}
     },
     "b56197a4e3d344a1b34932375b3fe488": {
      "model_module": "@jupyter-widgets/controls",
      "model_module_version": "1.0.0",
      "model_name": "VBoxModel",
      "state": {
       "_dom_classes": [
        "widget-interact"
       ],
       "children": [
        "IPY_MODEL_c3acb54708724e4390dd3a8471e46d56",
        "IPY_MODEL_a6951e73d1da455d858468203c75a576"
       ],
       "layout": "IPY_MODEL_6799d451f10143f89d4442efaa4e42ff"
      }
     },
     "b5735e03553b49679fce54b4390e5180": {
      "model_module": "@jupyter-widgets/base",
      "model_module_version": "1.0.0",
      "model_name": "LayoutModel",
      "state": {}
     },
     "b7da3fe363c240c3b7c9750a7dc1517b": {
      "model_module": "@jupyter-widgets/output",
      "model_module_version": "1.0.0",
      "model_name": "OutputModel",
      "state": {
       "layout": "IPY_MODEL_ae3015a6ae4944c5864bb50ddb476490"
      }
     },
     "b84ed0ea66f24ceba66b0181283664d8": {
      "model_module": "@jupyter-widgets/base",
      "model_module_version": "1.0.0",
      "model_name": "LayoutModel",
      "state": {}
     },
     "ba03315cb3c44a60987a1e385dfcc21c": {
      "model_module": "@jupyter-widgets/controls",
      "model_module_version": "1.0.0",
      "model_name": "VBoxModel",
      "state": {
       "_dom_classes": [
        "widget-interact"
       ],
       "children": [
        "IPY_MODEL_d0eb75abfe5a4b979ee47ff0a162eb5f",
        "IPY_MODEL_8ce856f79d9c49e3813ea2778b876696"
       ],
       "layout": "IPY_MODEL_d489b2ece96547fe91549a5dbc9ff80b"
      }
     },
     "ba44f88bc1434478b4ec13063ac99318": {
      "model_module": "@jupyter-widgets/base",
      "model_module_version": "1.0.0",
      "model_name": "LayoutModel",
      "state": {}
     },
     "ba4cbb09d7834f24afea01318f5f0ff9": {
      "model_module": "@jupyter-widgets/base",
      "model_module_version": "1.0.0",
      "model_name": "LayoutModel",
      "state": {}
     },
     "ba61631a5cb142f49134c5fedb99c959": {
      "model_module": "@jupyter-widgets/controls",
      "model_module_version": "1.0.0",
      "model_name": "DescriptionStyleModel",
      "state": {
       "description_width": ""
      }
     },
     "ba63f0ee4a9f44ca95ba83358f4a6172": {
      "model_module": "@jupyter-widgets/controls",
      "model_module_version": "1.0.0",
      "model_name": "DescriptionStyleModel",
      "state": {
       "description_width": ""
      }
     },
     "bb15cb7cdc904c1fbe2622816d2b07bf": {
      "model_module": "@jupyter-widgets/controls",
      "model_module_version": "1.0.0",
      "model_name": "VBoxModel",
      "state": {
       "_dom_classes": [
        "widget-interact"
       ],
       "children": [
        "IPY_MODEL_e652dc7d869e40ee872da82ddebc7978",
        "IPY_MODEL_66b210aaac4a4d39a3457d4173dd13cb"
       ],
       "layout": "IPY_MODEL_817a70ac3f5c4bcca1449a6b469a0142"
      }
     },
     "bd98cdec82244401b432b509b6db2ee1": {
      "model_module": "@jupyter-widgets/controls",
      "model_module_version": "1.0.0",
      "model_name": "DescriptionStyleModel",
      "state": {
       "description_width": ""
      }
     },
     "bdacbdac5a104505896371f28ea06a79": {
      "model_module": "@jupyter-widgets/base",
      "model_module_version": "1.0.0",
      "model_name": "LayoutModel",
      "state": {}
     },
     "bdad9bd736f94cfcbf833943e5f641ac": {
      "model_module": "@jupyter-widgets/base",
      "model_module_version": "1.0.0",
      "model_name": "LayoutModel",
      "state": {}
     },
     "bdd514fa222d468d88c5976ec68dfc91": {
      "model_module": "@jupyter-widgets/base",
      "model_module_version": "1.0.0",
      "model_name": "LayoutModel",
      "state": {}
     },
     "be2b7931b00d4487a94269f48237c93c": {
      "model_module": "@jupyter-widgets/controls",
      "model_module_version": "1.0.0",
      "model_name": "DescriptionStyleModel",
      "state": {
       "description_width": ""
      }
     },
     "be85b26a2f564339830ce5ea32972e51": {
      "model_module": "@jupyter-widgets/output",
      "model_module_version": "1.0.0",
      "model_name": "OutputModel",
      "state": {
       "layout": "IPY_MODEL_08b875ad026247cfbb210417b539c658"
      }
     },
     "bec832ae99ec473bad7c282f5770ac79": {
      "model_module": "@jupyter-widgets/controls",
      "model_module_version": "1.0.0",
      "model_name": "TextModel",
      "state": {
       "description": "z",
       "layout": "IPY_MODEL_8f8e88c086f54d9bbc28aa1c81990c5e",
       "style": "IPY_MODEL_e7ac21ba9cca4b65b614a5af78ec4619"
      }
     },
     "c02a70fdc45246938541dbebbb5b66da": {
      "model_module": "@jupyter-widgets/base",
      "model_module_version": "1.0.0",
      "model_name": "LayoutModel",
      "state": {}
     },
     "c3acb54708724e4390dd3a8471e46d56": {
      "model_module": "@jupyter-widgets/controls",
      "model_module_version": "1.0.0",
      "model_name": "TextModel",
      "state": {
       "description": "z",
       "layout": "IPY_MODEL_974d754c59fd4cc190a901de01c5588c",
       "style": "IPY_MODEL_0c17484713ea4125b60e6281b7dda8c5",
       "value": "fasdfasdf"
      }
     },
     "c55a69a727f24e24a30a39f841ff76a1": {
      "model_module": "@jupyter-widgets/base",
      "model_module_version": "1.0.0",
      "model_name": "LayoutModel",
      "state": {}
     },
     "c5bbc1aae31145708f0400aedc7a82b1": {
      "model_module": "@jupyter-widgets/controls",
      "model_module_version": "1.0.0",
      "model_name": "DescriptionStyleModel",
      "state": {
       "description_width": ""
      }
     },
     "c62f0328d12c4c9ba5b7601d41423876": {
      "model_module": "@jupyter-widgets/output",
      "model_module_version": "1.0.0",
      "model_name": "OutputModel",
      "state": {
       "layout": "IPY_MODEL_29d69a359ca345c8afd2170e7bfe2fde"
      }
     },
     "c749500b32e943dbb0b027bb9f15aea1": {
      "model_module": "@jupyter-widgets/controls",
      "model_module_version": "1.0.0",
      "model_name": "VBoxModel",
      "state": {
       "_dom_classes": [
        "widget-interact"
       ],
       "children": [
        "IPY_MODEL_9c71bf46d5b54d46bdb26c4889940f18",
        "IPY_MODEL_60038d4f36dc4c159dd324353c0e2b05"
       ],
       "layout": "IPY_MODEL_5c69fc8be3f24780bdd6b3885856ae77"
      }
     },
     "c760959cf1874501b0c6a54df16297a9": {
      "model_module": "@jupyter-widgets/controls",
      "model_module_version": "1.0.0",
      "model_name": "DescriptionStyleModel",
      "state": {
       "description_width": ""
      }
     },
     "c834dbf7330a4188a87586b41de8eed7": {
      "model_module": "@jupyter-widgets/controls",
      "model_module_version": "1.0.0",
      "model_name": "DescriptionStyleModel",
      "state": {
       "description_width": ""
      }
     },
     "c8afecbd45fd441ebd80ce652d79da9a": {
      "model_module": "@jupyter-widgets/base",
      "model_module_version": "1.0.0",
      "model_name": "LayoutModel",
      "state": {}
     },
     "c90351b114a648eea4a03021ab9e65b9": {
      "model_module": "@jupyter-widgets/controls",
      "model_module_version": "1.0.0",
      "model_name": "TextModel",
      "state": {
       "layout": "IPY_MODEL_23d11636382f42ecaa01b88c2fbea814",
       "style": "IPY_MODEL_c760959cf1874501b0c6a54df16297a9"
      }
     },
     "c973d2a02e3c45d2a5511e7cca88e2c3": {
      "model_module": "@jupyter-widgets/controls",
      "model_module_version": "1.0.0",
      "model_name": "DescriptionStyleModel",
      "state": {
       "description_width": ""
      }
     },
     "c9d8d22e95ce43328a9b665a13354ed6": {
      "model_module": "@jupyter-widgets/controls",
      "model_module_version": "1.0.0",
      "model_name": "TextModel",
      "state": {
       "description": "z",
       "layout": "IPY_MODEL_17058ebb4ccf4e45ae0d15cd6c67e213",
       "style": "IPY_MODEL_4c0ab6ec10de4bd18e5acacb50b3a761"
      }
     },
     "ca70bf825c074a9f92a479859f239d04": {
      "model_module": "@jupyter-widgets/controls",
      "model_module_version": "1.0.0",
      "model_name": "DescriptionStyleModel",
      "state": {
       "description_width": ""
      }
     },
     "cb7887e300b840bab28ef4d7414799a6": {
      "model_module": "@jupyter-widgets/base",
      "model_module_version": "1.0.0",
      "model_name": "LayoutModel",
      "state": {}
     },
     "cc4efae58b0d4442a802bff5af760d1a": {
      "model_module": "@jupyter-widgets/output",
      "model_module_version": "1.0.0",
      "model_name": "OutputModel",
      "state": {
       "layout": "IPY_MODEL_60434c87c46d4b7b9e742bcccd3708ef"
      }
     },
     "cc65008f83064018a983a06f8632e5fa": {
      "model_module": "@jupyter-widgets/base",
      "model_module_version": "1.0.0",
      "model_name": "LayoutModel",
      "state": {}
     },
     "cd3a46bc8de14fc4b9ef1b9ff9774dd1": {
      "model_module": "@jupyter-widgets/controls",
      "model_module_version": "1.0.0",
      "model_name": "DescriptionStyleModel",
      "state": {
       "description_width": ""
      }
     },
     "cd8dd42a2053437aa03a2e222e65a01f": {
      "model_module": "@jupyter-widgets/controls",
      "model_module_version": "1.0.0",
      "model_name": "DescriptionStyleModel",
      "state": {
       "description_width": ""
      }
     },
     "cda881aff57b407389fe84f0aaa7920d": {
      "model_module": "@jupyter-widgets/controls",
      "model_module_version": "1.0.0",
      "model_name": "DescriptionStyleModel",
      "state": {
       "description_width": ""
      }
     },
     "d03debdd48b245939acd89c8c6cdd390": {
      "model_module": "@jupyter-widgets/controls",
      "model_module_version": "1.0.0",
      "model_name": "DescriptionStyleModel",
      "state": {
       "description_width": ""
      }
     },
     "d0eb75abfe5a4b979ee47ff0a162eb5f": {
      "model_module": "@jupyter-widgets/controls",
      "model_module_version": "1.0.0",
      "model_name": "TextModel",
      "state": {
       "description": "z",
       "layout": "IPY_MODEL_9514b83a017a4bb58c7a59bc8fe8ebad",
       "style": "IPY_MODEL_edabcd61329344c98ccb6b1481348f7c",
       "value": "/Volumes/LACIE/VIIRS/RasterStats/NiameyPoly_2.shp"
      }
     },
     "d10d60a8f8744d9baa431804317a9221": {
      "model_module": "@jupyter-widgets/controls",
      "model_module_version": "1.0.0",
      "model_name": "DescriptionStyleModel",
      "state": {
       "description_width": ""
      }
     },
     "d4617e59e17d48b7ac3de49b53a88b45": {
      "model_module": "@jupyter-widgets/base",
      "model_module_version": "1.0.0",
      "model_name": "LayoutModel",
      "state": {}
     },
     "d489b2ece96547fe91549a5dbc9ff80b": {
      "model_module": "@jupyter-widgets/base",
      "model_module_version": "1.0.0",
      "model_name": "LayoutModel",
      "state": {}
     },
     "d558e09ffe4345289958899891c23edf": {
      "model_module": "@jupyter-widgets/controls",
      "model_module_version": "1.0.0",
      "model_name": "VBoxModel",
      "state": {
       "_dom_classes": [
        "widget-interact"
       ],
       "children": [
        "IPY_MODEL_c9d8d22e95ce43328a9b665a13354ed6",
        "IPY_MODEL_794732ed70dd4cdc9863791964393de9"
       ],
       "layout": "IPY_MODEL_1e1752ee03444a339f7045d8d408f11d"
      }
     },
     "d5e96344d89e4d8aae7bea7864d778c4": {
      "model_module": "@jupyter-widgets/base",
      "model_module_version": "1.0.0",
      "model_name": "LayoutModel",
      "state": {}
     },
     "d60275b96e564f12879d3d5ec6009545": {
      "model_module": "@jupyter-widgets/base",
      "model_module_version": "1.0.0",
      "model_name": "LayoutModel",
      "state": {}
     },
     "d6fb7586172e4bcaa6fb5653b7bc638f": {
      "model_module": "@jupyter-widgets/controls",
      "model_module_version": "1.0.0",
      "model_name": "DescriptionStyleModel",
      "state": {
       "description_width": ""
      }
     },
     "d7a5a0e53fe9432a90f246719c3cc3d9": {
      "model_module": "@jupyter-widgets/controls",
      "model_module_version": "1.0.0",
      "model_name": "TextModel",
      "state": {
       "layout": "IPY_MODEL_ac9fa480b168443d8a5ca5aae8d2966d",
       "style": "IPY_MODEL_2b00791ecf6648cda2f547070485f5c5"
      }
     },
     "d8e1a50bce9e45189ec293c7ae3c2df7": {
      "model_module": "@jupyter-widgets/base",
      "model_module_version": "1.0.0",
      "model_name": "LayoutModel",
      "state": {}
     },
     "d9a76f6064254035b3311027828a9384": {
      "model_module": "@jupyter-widgets/controls",
      "model_module_version": "1.0.0",
      "model_name": "VBoxModel",
      "state": {
       "_dom_classes": [
        "widget-interact"
       ],
       "children": [
        "IPY_MODEL_1b85e35ae1234ae9809450dd6b642c15",
        "IPY_MODEL_c62f0328d12c4c9ba5b7601d41423876"
       ],
       "layout": "IPY_MODEL_4ca96746cde04197a71a59e0615c78c6"
      }
     },
     "da39fcc443a14568a939409afd3acfd1": {
      "model_module": "@jupyter-widgets/output",
      "model_module_version": "1.0.0",
      "model_name": "OutputModel",
      "state": {
       "layout": "IPY_MODEL_5d2b5015bfe7411e9b4e87e4096dc654"
      }
     },
     "db807976f8f7488f8605c7bb97dd1085": {
      "model_module": "@jupyter-widgets/base",
      "model_module_version": "1.0.0",
      "model_name": "LayoutModel",
      "state": {}
     },
     "dcb405cd8e60474eb4146eacf5fc8a33": {
      "model_module": "@jupyter-widgets/base",
      "model_module_version": "1.0.0",
      "model_name": "LayoutModel",
      "state": {}
     },
     "dd1e25fddfa94ee0a331e2b18cb990ed": {
      "model_module": "@jupyter-widgets/controls",
      "model_module_version": "1.0.0",
      "model_name": "TextModel",
      "state": {
       "description": "z",
       "layout": "IPY_MODEL_0dace4062dd04af78a020b1be4db0fb7",
       "style": "IPY_MODEL_b068bfae30a64810999066e25d434d61",
       "value": "S*cf_cvg.tif"
      }
     },
     "dd53c0e6c84140d5be97b10623a994cb": {
      "model_module": "@jupyter-widgets/output",
      "model_module_version": "1.0.0",
      "model_name": "OutputModel",
      "state": {
       "layout": "IPY_MODEL_dfed1246463f4dd49847247a6aaee6cc"
      }
     },
     "ded4d9b9730e470f9f0e851cb30ed7b4": {
      "model_module": "@jupyter-widgets/controls",
      "model_module_version": "1.0.0",
      "model_name": "TextModel",
      "state": {
       "layout": "IPY_MODEL_dfe47e6e392e4679aefaf93618871d75",
       "style": "IPY_MODEL_109f8354be79474c8ba0af6e0b75da23"
      }
     },
     "dfe47e6e392e4679aefaf93618871d75": {
      "model_module": "@jupyter-widgets/base",
      "model_module_version": "1.0.0",
      "model_name": "LayoutModel",
      "state": {}
     },
     "dfed1246463f4dd49847247a6aaee6cc": {
      "model_module": "@jupyter-widgets/base",
      "model_module_version": "1.0.0",
      "model_name": "LayoutModel",
      "state": {}
     },
     "e0d69cbd1795493daf6a28ef1645e4ad": {
      "model_module": "@jupyter-widgets/controls",
      "model_module_version": "1.0.0",
      "model_name": "TextModel",
      "state": {
       "layout": "IPY_MODEL_bdad9bd736f94cfcbf833943e5f641ac",
       "style": "IPY_MODEL_700bb9cbe4664b2b935e989deeb40d75"
      }
     },
     "e1d35ae203b043838f53aba9404c0194": {
      "model_module": "@jupyter-widgets/controls",
      "model_module_version": "1.0.0",
      "model_name": "TextModel",
      "state": {
       "layout": "IPY_MODEL_b309790c997f44e395efc187e59e7975",
       "style": "IPY_MODEL_d10d60a8f8744d9baa431804317a9221"
      }
     },
     "e41b1d6e44c044799b355ed8353e9fc6": {
      "model_module": "@jupyter-widgets/controls",
      "model_module_version": "1.0.0",
      "model_name": "TextModel",
      "state": {
       "layout": "IPY_MODEL_d4617e59e17d48b7ac3de49b53a88b45",
       "style": "IPY_MODEL_cd8dd42a2053437aa03a2e222e65a01f"
      }
     },
     "e4ad24aa9d164e0f91d633cd779e89ac": {
      "model_module": "@jupyter-widgets/controls",
      "model_module_version": "1.0.0",
      "model_name": "VBoxModel",
      "state": {
       "_dom_classes": [
        "widget-interact"
       ],
       "children": [
        "IPY_MODEL_bec832ae99ec473bad7c282f5770ac79",
        "IPY_MODEL_09e1c273af0a47b29355adf3b53d5571"
       ],
       "layout": "IPY_MODEL_c02a70fdc45246938541dbebbb5b66da"
      }
     },
     "e511ad4aba8d4be4b513660944604cd4": {
      "model_module": "@jupyter-widgets/base",
      "model_module_version": "1.0.0",
      "model_name": "LayoutModel",
      "state": {}
     },
     "e652dc7d869e40ee872da82ddebc7978": {
      "model_module": "@jupyter-widgets/controls",
      "model_module_version": "1.0.0",
      "model_name": "TextModel",
      "state": {
       "description": "z",
       "layout": "IPY_MODEL_51e5ccaa53d6439096ab2841cb20195e",
       "style": "IPY_MODEL_ba63f0ee4a9f44ca95ba83358f4a6172",
       "value": "S*cf_cvg.tif"
      }
     },
     "e6f2b05bcb9840b2b1b81f54cb0977dc": {
      "model_module": "@jupyter-widgets/base",
      "model_module_version": "1.0.0",
      "model_name": "LayoutModel",
      "state": {}
     },
     "e7491513f5644ed9ba4fc0d6270590e2": {
      "model_module": "@jupyter-widgets/controls",
      "model_module_version": "1.0.0",
      "model_name": "TextModel",
      "state": {
       "layout": "IPY_MODEL_fa78d6f4b3904d0f95e53c7c3d979794",
       "style": "IPY_MODEL_cda881aff57b407389fe84f0aaa7920d"
      }
     },
     "e7ac21ba9cca4b65b614a5af78ec4619": {
      "model_module": "@jupyter-widgets/controls",
      "model_module_version": "1.0.0",
      "model_name": "DescriptionStyleModel",
      "state": {
       "description_width": ""
      }
     },
     "e820189f30f74f03a194d1dfb1f8e911": {
      "model_module": "@jupyter-widgets/base",
      "model_module_version": "1.0.0",
      "model_name": "LayoutModel",
      "state": {}
     },
     "e86bd21b04c145a0a53defadbace9286": {
      "model_module": "@jupyter-widgets/controls",
      "model_module_version": "1.0.0",
      "model_name": "DescriptionStyleModel",
      "state": {
       "description_width": ""
      }
     },
     "ed0647026a2f4c6c8d2b5263b44d27f7": {
      "model_module": "@jupyter-widgets/controls",
      "model_module_version": "1.0.0",
      "model_name": "TextModel",
      "state": {
       "description": "z",
       "layout": "IPY_MODEL_341f6501c939476b8da2b92a14ddf305",
       "style": "IPY_MODEL_cd3a46bc8de14fc4b9ef1b9ff9774dd1"
      }
     },
     "edabcd61329344c98ccb6b1481348f7c": {
      "model_module": "@jupyter-widgets/controls",
      "model_module_version": "1.0.0",
      "model_name": "DescriptionStyleModel",
      "state": {
       "description_width": ""
      }
     },
     "f290ee5c05774d6dad0d73a0f9a7fc2f": {
      "model_module": "@jupyter-widgets/controls",
      "model_module_version": "1.0.0",
      "model_name": "VBoxModel",
      "state": {
       "_dom_classes": [
        "widget-interact"
       ],
       "children": [
        "IPY_MODEL_fd7824ab63854ba99e4b2a4166bbc093",
        "IPY_MODEL_09376815b8ed470ea23ac36c17913455"
       ],
       "layout": "IPY_MODEL_7fed1e7af8a9427ba28c945e6f84b9b1"
      }
     },
     "f33ed36a34a840f795d0c95bb336e3cb": {
      "model_module": "@jupyter-widgets/controls",
      "model_module_version": "1.0.0",
      "model_name": "DescriptionStyleModel",
      "state": {
       "description_width": ""
      }
     },
     "f40a69f2eb024ff292257fc456a739ea": {
      "model_module": "@jupyter-widgets/base",
      "model_module_version": "1.0.0",
      "model_name": "LayoutModel",
      "state": {}
     },
     "f4f9c7244bd047159f2fd165a135e101": {
      "model_module": "@jupyter-widgets/controls",
      "model_module_version": "1.0.0",
      "model_name": "TextModel",
      "state": {
       "layout": "IPY_MODEL_6c1708342ed64b71876609b4a40b969d",
       "style": "IPY_MODEL_f33ed36a34a840f795d0c95bb336e3cb"
      }
     },
     "f5bf1f25ddb74693a1f6ef5bac12e36a": {
      "model_module": "@jupyter-widgets/output",
      "model_module_version": "1.0.0",
      "model_name": "OutputModel",
      "state": {
       "layout": "IPY_MODEL_ad295b6e56e84b378eb0475a13c11619"
      }
     },
     "f6a9de18d736402999e48986e5c2f775": {
      "model_module": "@jupyter-widgets/controls",
      "model_module_version": "1.0.0",
      "model_name": "VBoxModel",
      "state": {
       "_dom_classes": [
        "widget-interact"
       ],
       "children": [
        "IPY_MODEL_874ef2815bf243158c40e506d6c992a1",
        "IPY_MODEL_be85b26a2f564339830ce5ea32972e51"
       ],
       "layout": "IPY_MODEL_821fd4ea14e041dc9ab7fb3204d331ec"
      }
     },
     "f6dc40fba33942769dcb0dfe94005311": {
      "model_module": "@jupyter-widgets/controls",
      "model_module_version": "1.0.0",
      "model_name": "TextModel",
      "state": {
       "description": "z",
       "layout": "IPY_MODEL_528475af6a0649ff867010a9bad75786",
       "style": "IPY_MODEL_be2b7931b00d4487a94269f48237c93c",
       "value": "10:18"
      }
     },
     "f85fb1b975e4499a8a8d5772cc1e08ee": {
      "model_module": "@jupyter-widgets/base",
      "model_module_version": "1.0.0",
      "model_name": "LayoutModel",
      "state": {}
     },
     "fa78d6f4b3904d0f95e53c7c3d979794": {
      "model_module": "@jupyter-widgets/base",
      "model_module_version": "1.0.0",
      "model_name": "LayoutModel",
      "state": {}
     },
     "fb9f298b137c4bd88973cc1531fcde5a": {
      "model_module": "@jupyter-widgets/base",
      "model_module_version": "1.0.0",
      "model_name": "LayoutModel",
      "state": {}
     },
     "fcc15df87f86494094283fc2eb396f40": {
      "model_module": "@jupyter-widgets/controls",
      "model_module_version": "1.0.0",
      "model_name": "VBoxModel",
      "state": {
       "_dom_classes": [
        "widget-interact"
       ],
       "children": [
        "IPY_MODEL_74e4c6eaf2154e3c9e35f538ab3078cb",
        "IPY_MODEL_da39fcc443a14568a939409afd3acfd1"
       ],
       "layout": "IPY_MODEL_c55a69a727f24e24a30a39f841ff76a1"
      }
     },
     "fd0c1a867fa64bd1a19004e136ef45c2": {
      "model_module": "@jupyter-widgets/output",
      "model_module_version": "1.0.0",
      "model_name": "OutputModel",
      "state": {
       "layout": "IPY_MODEL_3bc05fa7a0444e989c510115d5be1ad8"
      }
     },
     "fd73765fe65d4ae48459dae329d600a8": {
      "model_module": "@jupyter-widgets/base",
      "model_module_version": "1.0.0",
      "model_name": "LayoutModel",
      "state": {}
     },
     "fd7824ab63854ba99e4b2a4166bbc093": {
      "model_module": "@jupyter-widgets/controls",
      "model_module_version": "1.0.0",
      "model_name": "TextModel",
      "state": {
       "description": "z",
       "layout": "IPY_MODEL_989b917d608142448e7d42a906838afe",
       "style": "IPY_MODEL_ffdefb9a12fb45f09443a5f4cf2d1f9b"
      }
     },
     "ff1a2901f11e4ea087f69361cc4f350b": {
      "model_module": "@jupyter-widgets/output",
      "model_module_version": "1.0.0",
      "model_name": "OutputModel",
      "state": {
       "layout": "IPY_MODEL_b49792ead81c475e8436de4d997893e9"
      }
     },
     "ff60b492a0f64330aa1496ffb73638d0": {
      "model_module": "@jupyter-widgets/controls",
      "model_module_version": "1.0.0",
      "model_name": "VBoxModel",
      "state": {
       "_dom_classes": [
        "widget-interact"
       ],
       "children": [
        "IPY_MODEL_82646b605b854933b0d1f17edd7e4a58",
        "IPY_MODEL_1292377e71764a0391daa23a30d2c4b6"
       ],
       "layout": "IPY_MODEL_49a21c22c0bc4a3b86dd37fab236baf4"
      }
     },
     "ffdefb9a12fb45f09443a5f4cf2d1f9b": {
      "model_module": "@jupyter-widgets/controls",
      "model_module_version": "1.0.0",
      "model_name": "DescriptionStyleModel",
      "state": {
       "description_width": ""
      }
     }
    },
    "version_major": 2,
    "version_minor": 0
   }
  }
 },
 "nbformat": 4,
 "nbformat_minor": 2
}
