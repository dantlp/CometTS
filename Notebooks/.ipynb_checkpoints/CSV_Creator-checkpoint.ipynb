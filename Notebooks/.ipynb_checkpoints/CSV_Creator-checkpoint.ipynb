{
 "cells": [
  {
   "cell_type": "markdown",
   "metadata": {},
   "source": [
    "## CSV_Creator - Create a CSV that documents your raster data structure\n",
    "The process works by first iterating through the folder structure and creating a .csv file that indicates where each raster is stored, the date of each image, optionally the number of observations (if using monthly or annual composite data), and optionally a mask band for each of your time series raster images.  The workflow below walks through the usage of NPP VIIRS nighttime lights monthly composite data.  These data are available for download here: https://ngdc.noaa.gov/eog/viirs/download_dnb_composites.html\n",
    "\n",
    "Once downloaded, data should be stored in a hierarchical folder pattern that is common for remote sensing applications.\n",
    "\n",
    "    VIIRSData/\n",
    "    └── Lat075N_Long060W\n",
    "        ├── SVDNB_npp_20120401-20120430_75N060W_vcmcfg_v10_c201605121456\n",
    "        │   ├── SVDNB_npp_20120401-20120430_75N060W_vcmcfg_v10_c201605121456.avg_rade9\n",
    "        │   ├── SVDNB_npp_20120401-20120430_75N060W_vcmcfg_v10_c201605121456.cf_cvg\n",
    "        ├── SVDNB_npp_20120501-20120531_75N060W_vcmcfg_v10_c201605121458\n",
    "        │   ├── SVDNB_npp_20120501-20120531_75N060W_vcmcfg_v10_c201605121458.avg_rade9\n",
    "        │   ├── SVDNB_npp_20120501-20120531_75N060W_vcmcfg_v10_c201605121458.cf_cvg.tif\n",
    "        ├── SVDNB_npp_20120601-20120630_75N060W_vcmcfg_v10_c201605121459\n",
    "\n",
    "        ...\n",
    "        \n",
    "If you are using non-VIIRS data, this pattern will remain consistent regardless. Data should be organized into exclusive areas with identical extents. The most important element of this structure is that images on different dates are stored in their own separate subdirectory. Mask bands should be stored in the same subdirectory as your time series data."
   ]
  },
  {
   "cell_type": "code",
   "execution_count": 1,
   "metadata": {},
   "outputs": [],
   "source": [
    "## Import your packages, assumes you have already installed CometTS\n",
    "import os\n",
    "from CometTS.CSV_It import csv_it"
   ]
  },
  {
   "cell_type": "markdown",
   "metadata": {},
   "source": [
    "Optionally get the relative path to sample data below.  This is NPP VIIRS nighttime monthly composite imagery."
   ]
  },
  {
   "cell_type": "code",
   "execution_count": 2,
   "metadata": {},
   "outputs": [],
   "source": [
    "input_path=os.path.abspath('')\n",
    "input_path=os.path.join(input_path.split(\"Notebooks\")[0],\"CometTS/VIIRS_Sample\")"
   ]
  },
  {
   "cell_type": "markdown",
   "metadata": {},
   "source": [
    "Specify paths and naming convetions below.  Note the use of wildcards in TSdata, Observations, and Mask which will be used as a common search pattern to query your folders above and identify the appropriate files of interest."
   ]
  },
  {
   "cell_type": "code",
   "execution_count": 3,
   "metadata": {},
   "outputs": [],
   "source": [
    "#The input directory for the data. Specify directory directly for another directory.\n",
    "input_dir = input_path\n",
    "# The naming pattern for your time-series data, if not necessary, just set at \"*\"\n",
    "TSdata = \"S*rade9*.tif\"\n",
    "# The number of observations that were aggregated per date-somewhat useful is working with monthly composite data\n",
    "Observations = \"S*cvg*.tif\"\n",
    "# The naming pattern for your masked data\n",
    "Mask = \"S*cvg*.tif\"\n",
    "# The location of the date within your filename.  Note python indexing of string here\n",
    "DateLoc = \"10:18\""
   ]
  },
  {
   "cell_type": "markdown",
   "metadata": {},
   "source": [
    "Create the final csv.  This can then be fed to CometTS for visualization and analysis."
   ]
  },
  {
   "cell_type": "code",
   "execution_count": 4,
   "metadata": {},
   "outputs": [
    {
     "name": "stdout",
     "output_type": "stream",
     "text": [
      "Pattern: S*rade9*.tif\n",
      "#Obs Pattern: S*cvg*.tif\n",
      "Date Location in filename: 10:18\n",
      "No band number location entered\n",
      "Mask band pattern: S*cvg*.tif\n",
      "22\n"
     ]
    },
    {
     "name": "stderr",
     "output_type": "stream",
     "text": [
      "100%|██████████████████████████████████████████████████████████████████████████████████| 22/22 [00:01<00:00, 19.61it/s]\n"
     ]
    }
   ],
   "source": [
    "gdf_out = csv_it(input_dir, TSdata, Observations, Mask, DateLoc)\n",
    "output = os.path.join(input_dir, 'Raster_List.csv')\n",
    "gdf_out.to_csv(output)"
   ]
  }
 ],
 "metadata": {
  "kernelspec": {
   "display_name": "Python 3",
   "language": "python",
   "name": "python3"
  },
  "language_info": {
   "codemirror_mode": {
    "name": "ipython",
    "version": 3
   },
   "file_extension": ".py",
   "mimetype": "text/x-python",
   "name": "python",
   "nbconvert_exporter": "python",
   "pygments_lexer": "ipython3",
   "version": "3.7.8"
  }
 },
 "nbformat": 4,
 "nbformat_minor": 2
}
